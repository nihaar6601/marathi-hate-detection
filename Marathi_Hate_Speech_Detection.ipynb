{
  "cells": [
    {
      "cell_type": "code",
      "execution_count": null,
      "metadata": {
        "id": "79d5de7a"
      },
      "outputs": [],
      "source": [
        "import numpy as np                  #linear algebra\n",
        "import pandas as pd                 # data processing, CSV file I/O (e.g. pd.read_csv)\n",
        "import matplotlib.pyplot as plt     #For Visualisation\n",
        "%matplotlib inline\n",
        "import seaborn as sns               #For better Visualisation\n",
        "from bs4 import BeautifulSoup"
      ],
      "id": "79d5de7a"
    },
    {
      "cell_type": "code",
      "execution_count": null,
      "metadata": {
        "id": "6055a747"
      },
      "outputs": [],
      "source": [
        "#df=pd.read_csv(r\"C:\\Users\\asus\\Downloads\\hate_speech.csv\") /home/isha/Desktop\n",
        "df=pd.read_csv(\"hate_train.csv\")"
      ],
      "id": "6055a747"
    },
    {
      "cell_type": "code",
      "execution_count": null,
      "metadata": {
        "colab": {
          "base_uri": "https://localhost:8080/",
          "height": 206
        },
        "id": "95c01ba7",
        "outputId": "56efd675-4498-4fad-ffbc-d93ebee34297"
      },
      "outputs": [
        {
          "data": {
            "text/html": [
              "\n",
              "  <div id=\"df-9543d61a-7c44-4995-81eb-3c30b4ee100e\">\n",
              "    <div class=\"colab-df-container\">\n",
              "      <div>\n",
              "<style scoped>\n",
              "    .dataframe tbody tr th:only-of-type {\n",
              "        vertical-align: middle;\n",
              "    }\n",
              "\n",
              "    .dataframe tbody tr th {\n",
              "        vertical-align: top;\n",
              "    }\n",
              "\n",
              "    .dataframe thead th {\n",
              "        text-align: right;\n",
              "    }\n",
              "</style>\n",
              "<table border=\"1\" class=\"dataframe\">\n",
              "  <thead>\n",
              "    <tr style=\"text-align: right;\">\n",
              "      <th></th>\n",
              "      <th>text</th>\n",
              "      <th>label</th>\n",
              "    </tr>\n",
              "  </thead>\n",
              "  <tbody>\n",
              "    <tr>\n",
              "      <th>0</th>\n",
              "      <td>@lokmat बहुसंख्यांक हिंदूंना घाबरट आणि मुर्ख ब...</td>\n",
              "      <td>HATE</td>\n",
              "    </tr>\n",
              "    <tr>\n",
              "      <th>1</th>\n",
              "      <td>@BalaNandgaonkar स्वतःचे खिसे भरत आहेत, यांना ...</td>\n",
              "      <td>HATE</td>\n",
              "    </tr>\n",
              "    <tr>\n",
              "      <th>2</th>\n",
              "      <td>या पुचाट UNO पेक्षा आमच्याकडचं ENO जास्त प्रभा...</td>\n",
              "      <td>HATE</td>\n",
              "    </tr>\n",
              "    <tr>\n",
              "      <th>3</th>\n",
              "      <td>एक हिजाब परिधान केलेली मुलगी काल परवापासून व्ह...</td>\n",
              "      <td>HATE</td>\n",
              "    </tr>\n",
              "    <tr>\n",
              "      <th>4</th>\n",
              "      <td>@KiritSomaiya @BJP4India @BJP4Maharashtra जंगी...</td>\n",
              "      <td>HATE</td>\n",
              "    </tr>\n",
              "  </tbody>\n",
              "</table>\n",
              "</div>\n",
              "      <button class=\"colab-df-convert\" onclick=\"convertToInteractive('df-9543d61a-7c44-4995-81eb-3c30b4ee100e')\"\n",
              "              title=\"Convert this dataframe to an interactive table.\"\n",
              "              style=\"display:none;\">\n",
              "        \n",
              "  <svg xmlns=\"http://www.w3.org/2000/svg\" height=\"24px\"viewBox=\"0 0 24 24\"\n",
              "       width=\"24px\">\n",
              "    <path d=\"M0 0h24v24H0V0z\" fill=\"none\"/>\n",
              "    <path d=\"M18.56 5.44l.94 2.06.94-2.06 2.06-.94-2.06-.94-.94-2.06-.94 2.06-2.06.94zm-11 1L8.5 8.5l.94-2.06 2.06-.94-2.06-.94L8.5 2.5l-.94 2.06-2.06.94zm10 10l.94 2.06.94-2.06 2.06-.94-2.06-.94-.94-2.06-.94 2.06-2.06.94z\"/><path d=\"M17.41 7.96l-1.37-1.37c-.4-.4-.92-.59-1.43-.59-.52 0-1.04.2-1.43.59L10.3 9.45l-7.72 7.72c-.78.78-.78 2.05 0 2.83L4 21.41c.39.39.9.59 1.41.59.51 0 1.02-.2 1.41-.59l7.78-7.78 2.81-2.81c.8-.78.8-2.07 0-2.86zM5.41 20L4 18.59l7.72-7.72 1.47 1.35L5.41 20z\"/>\n",
              "  </svg>\n",
              "      </button>\n",
              "      \n",
              "  <style>\n",
              "    .colab-df-container {\n",
              "      display:flex;\n",
              "      flex-wrap:wrap;\n",
              "      gap: 12px;\n",
              "    }\n",
              "\n",
              "    .colab-df-convert {\n",
              "      background-color: #E8F0FE;\n",
              "      border: none;\n",
              "      border-radius: 50%;\n",
              "      cursor: pointer;\n",
              "      display: none;\n",
              "      fill: #1967D2;\n",
              "      height: 32px;\n",
              "      padding: 0 0 0 0;\n",
              "      width: 32px;\n",
              "    }\n",
              "\n",
              "    .colab-df-convert:hover {\n",
              "      background-color: #E2EBFA;\n",
              "      box-shadow: 0px 1px 2px rgba(60, 64, 67, 0.3), 0px 1px 3px 1px rgba(60, 64, 67, 0.15);\n",
              "      fill: #174EA6;\n",
              "    }\n",
              "\n",
              "    [theme=dark] .colab-df-convert {\n",
              "      background-color: #3B4455;\n",
              "      fill: #D2E3FC;\n",
              "    }\n",
              "\n",
              "    [theme=dark] .colab-df-convert:hover {\n",
              "      background-color: #434B5C;\n",
              "      box-shadow: 0px 1px 3px 1px rgba(0, 0, 0, 0.15);\n",
              "      filter: drop-shadow(0px 1px 2px rgba(0, 0, 0, 0.3));\n",
              "      fill: #FFFFFF;\n",
              "    }\n",
              "  </style>\n",
              "\n",
              "      <script>\n",
              "        const buttonEl =\n",
              "          document.querySelector('#df-9543d61a-7c44-4995-81eb-3c30b4ee100e button.colab-df-convert');\n",
              "        buttonEl.style.display =\n",
              "          google.colab.kernel.accessAllowed ? 'block' : 'none';\n",
              "\n",
              "        async function convertToInteractive(key) {\n",
              "          const element = document.querySelector('#df-9543d61a-7c44-4995-81eb-3c30b4ee100e');\n",
              "          const dataTable =\n",
              "            await google.colab.kernel.invokeFunction('convertToInteractive',\n",
              "                                                     [key], {});\n",
              "          if (!dataTable) return;\n",
              "\n",
              "          const docLinkHtml = 'Like what you see? Visit the ' +\n",
              "            '<a target=\"_blank\" href=https://colab.research.google.com/notebooks/data_table.ipynb>data table notebook</a>'\n",
              "            + ' to learn more about interactive tables.';\n",
              "          element.innerHTML = '';\n",
              "          dataTable['output_type'] = 'display_data';\n",
              "          await google.colab.output.renderOutput(dataTable, element);\n",
              "          const docLink = document.createElement('div');\n",
              "          docLink.innerHTML = docLinkHtml;\n",
              "          element.appendChild(docLink);\n",
              "        }\n",
              "      </script>\n",
              "    </div>\n",
              "  </div>\n",
              "  "
            ],
            "text/plain": [
              "                                                text label\n",
              "0  @lokmat बहुसंख्यांक हिंदूंना घाबरट आणि मुर्ख ब...  HATE\n",
              "1  @BalaNandgaonkar स्वतःचे खिसे भरत आहेत, यांना ...  HATE\n",
              "2  या पुचाट UNO पेक्षा आमच्याकडचं ENO जास्त प्रभा...  HATE\n",
              "3  एक हिजाब परिधान केलेली मुलगी काल परवापासून व्ह...  HATE\n",
              "4  @KiritSomaiya @BJP4India @BJP4Maharashtra जंगी...  HATE"
            ]
          },
          "execution_count": 8,
          "metadata": {},
          "output_type": "execute_result"
        }
      ],
      "source": [
        "df.head()"
      ],
      "id": "95c01ba7"
    },
    {
      "cell_type": "code",
      "execution_count": null,
      "metadata": {
        "colab": {
          "base_uri": "https://localhost:8080/",
          "height": 424
        },
        "id": "84b65bc2",
        "outputId": "a86c1814-dfa7-4cce-c509-c5eb9a44d879"
      },
      "outputs": [
        {
          "name": "stdout",
          "output_type": "stream",
          "text": [
            "HATE    5375\n",
            "OFFN    5375\n",
            "PRFN    5375\n",
            "NOT     5375\n",
            "Name: label, dtype: int64\n"
          ]
        },
        {
          "name": "stderr",
          "output_type": "stream",
          "text": [
            "/usr/local/lib/python3.8/dist-packages/seaborn/_decorators.py:36: FutureWarning: Pass the following variables as keyword args: x, y. From version 0.12, the only valid positional argument will be `data`, and passing other arguments without an explicit keyword will result in an error or misinterpretation.\n",
            "  warnings.warn(\n"
          ]
        },
        {
          "data": {
            "text/plain": [
              "<matplotlib.axes._subplots.AxesSubplot at 0x7fd55ab11af0>"
            ]
          },
          "execution_count": 10,
          "metadata": {},
          "output_type": "execute_result"
        },
        {
          "data": {
            "image/png": "[encoded data removed]",
            "text/plain": [
              "<Figure size 432x288 with 1 Axes>"
            ]
          },
          "metadata": {},
          "output_type": "display_data"
        }
      ],
      "source": [
        "import seaborn as sns\n",
        "x=df['label'].value_counts()\n",
        "print(x)\n",
        "sns.barplot(x.index,x)"
      ],
      "id": "84b65bc2"
    },
    {
      "cell_type": "code",
      "execution_count": null,
      "metadata": {
        "colab": {
          "base_uri": "https://localhost:8080/"
        },
        "id": "395860d8",
        "outputId": "ef76a7ba-8f3d-49da-91e0-40599bbd98af"
      },
      "outputs": [
        {
          "data": {
            "text/plain": [
              "text     0\n",
              "label    0\n",
              "dtype: int64"
            ]
          },
          "execution_count": 11,
          "metadata": {},
          "output_type": "execute_result"
        }
      ],
      "source": [
        "df.isna().sum()"
      ],
      "id": "395860d8"
    },
    {
      "cell_type": "code",
      "execution_count": null,
      "metadata": {
        "colab": {
          "base_uri": "https://localhost:8080/"
        },
        "id": "d219d65b",
        "outputId": "5ab02cf7-a8ab-4676-8870-563dc458d9de"
      },
      "outputs": [
        {
          "data": {
            "text/plain": [
              "(21500, 2)"
            ]
          },
          "execution_count": 12,
          "metadata": {},
          "output_type": "execute_result"
        }
      ],
      "source": [
        "df.shape"
      ],
      "id": "d219d65b"
    },
    {
      "cell_type": "code",
      "execution_count": null,
      "metadata": {
        "colab": {
          "base_uri": "https://localhost:8080/"
        },
        "id": "51c33939",
        "outputId": "0e240735-6747-4836-a2d0-a6a051e0f54a"
      },
      "outputs": [
        {
          "data": {
            "text/plain": [
              "Index(['text', 'label'], dtype='object')"
            ]
          },
          "execution_count": 13,
          "metadata": {},
          "output_type": "execute_result"
        }
      ],
      "source": [
        "df.columns"
      ],
      "id": "51c33939"
    },
    {
      "cell_type": "code",
      "execution_count": null,
      "metadata": {
        "colab": {
          "base_uri": "https://localhost:8080/"
        },
        "id": "d784549a",
        "outputId": "581b621a-b6bc-45e6-db49-5ce8d91b2891"
      },
      "outputs": [
        {
          "name": "stdout",
          "output_type": "stream",
          "text": [
            "<class 'pandas.core.frame.DataFrame'>\n",
            "RangeIndex: 21500 entries, 0 to 21499\n",
            "Data columns (total 2 columns):\n",
            " #   Column  Non-Null Count  Dtype \n",
            "---  ------  --------------  ----- \n",
            " 0   text    21500 non-null  object\n",
            " 1   label   21500 non-null  object\n",
            "dtypes: object(2)\n",
            "memory usage: 336.1+ KB\n"
          ]
        }
      ],
      "source": [
        "df.info()"
      ],
      "id": "d784549a"
    },
    {
      "cell_type": "code",
      "execution_count": null,
      "metadata": {
        "colab": {
          "base_uri": "https://localhost:8080/"
        },
        "id": "6f66a706",
        "outputId": "b9686e26-b3b9-49aa-cb17-bdd7a5b1fbf0"
      },
      "outputs": [
        {
          "data": {
            "text/plain": [
              "HATE    5375\n",
              "OFFN    5375\n",
              "PRFN    5375\n",
              "NOT     5375\n",
              "Name: label, dtype: int64"
            ]
          },
          "execution_count": 15,
          "metadata": {},
          "output_type": "execute_result"
        }
      ],
      "source": [
        "df['label'].value_counts()"
      ],
      "id": "6f66a706"
    },
    {
      "cell_type": "code",
      "execution_count": null,
      "metadata": {
        "colab": {
          "base_uri": "https://localhost:8080/",
          "height": 424
        },
        "id": "30abc619",
        "outputId": "c64fff50-3185-43e2-de38-71e6494b3cba"
      },
      "outputs": [
        {
          "data": {
            "text/html": [
              "\n",
              "  <div id=\"df-356522bc-eb2e-4ca1-8801-d9ac561848f6\">\n",
              "    <div class=\"colab-df-container\">\n",
              "      <div>\n",
              "<style scoped>\n",
              "    .dataframe tbody tr th:only-of-type {\n",
              "        vertical-align: middle;\n",
              "    }\n",
              "\n",
              "    .dataframe tbody tr th {\n",
              "        vertical-align: top;\n",
              "    }\n",
              "\n",
              "    .dataframe thead th {\n",
              "        text-align: right;\n",
              "    }\n",
              "</style>\n",
              "<table border=\"1\" class=\"dataframe\">\n",
              "  <thead>\n",
              "    <tr style=\"text-align: right;\">\n",
              "      <th></th>\n",
              "      <th>text</th>\n",
              "      <th>label</th>\n",
              "    </tr>\n",
              "  </thead>\n",
              "  <tbody>\n",
              "    <tr>\n",
              "      <th>0</th>\n",
              "      <td>@lokmat बहुसंख्यांक हिंदूंना घाबरट आणि मुर्ख ब...</td>\n",
              "      <td>HATE</td>\n",
              "    </tr>\n",
              "    <tr>\n",
              "      <th>1</th>\n",
              "      <td>@BalaNandgaonkar स्वतःचे खिसे भरत आहेत, यांना ...</td>\n",
              "      <td>HATE</td>\n",
              "    </tr>\n",
              "    <tr>\n",
              "      <th>2</th>\n",
              "      <td>या पुचाट UNO पेक्षा आमच्याकडचं ENO जास्त प्रभा...</td>\n",
              "      <td>HATE</td>\n",
              "    </tr>\n",
              "    <tr>\n",
              "      <th>3</th>\n",
              "      <td>एक हिजाब परिधान केलेली मुलगी काल परवापासून व्ह...</td>\n",
              "      <td>HATE</td>\n",
              "    </tr>\n",
              "    <tr>\n",
              "      <th>4</th>\n",
              "      <td>@KiritSomaiya @BJP4India @BJP4Maharashtra जंगी...</td>\n",
              "      <td>HATE</td>\n",
              "    </tr>\n",
              "    <tr>\n",
              "      <th>...</th>\n",
              "      <td>...</td>\n",
              "      <td>...</td>\n",
              "    </tr>\n",
              "    <tr>\n",
              "      <th>5370</th>\n",
              "      <td>कसले हे फालतू प्लांनिंग 😡 किती मूर्ख शार्प शूट...</td>\n",
              "      <td>HATE</td>\n",
              "    </tr>\n",
              "    <tr>\n",
              "      <th>5371</th>\n",
              "      <td>बरेच अभिनेते हे कंगनासारखे मूर्ख, निर्बुद्ध आह...</td>\n",
              "      <td>HATE</td>\n",
              "    </tr>\n",
              "    <tr>\n",
              "      <th>5372</th>\n",
              "      <td>शिवसेनेला इतकीच खुमखुमी असेल तर आगामी मुंबई ठा...</td>\n",
              "      <td>HATE</td>\n",
              "    </tr>\n",
              "    <tr>\n",
              "      <th>5373</th>\n",
              "      <td>@Bina_j_2000 काही \" संघी \" आणि \" भक्त \" लोकांच...</td>\n",
              "      <td>HATE</td>\n",
              "    </tr>\n",
              "    <tr>\n",
              "      <th>5374</th>\n",
              "      <td>@PradipGavade @RRPSpeaks हकालपट्टी चं खरं नेमक...</td>\n",
              "      <td>HATE</td>\n",
              "    </tr>\n",
              "  </tbody>\n",
              "</table>\n",
              "<p>5375 rows × 2 columns</p>\n",
              "</div>\n",
              "      <button class=\"colab-df-convert\" onclick=\"convertToInteractive('df-356522bc-eb2e-4ca1-8801-d9ac561848f6')\"\n",
              "              title=\"Convert this dataframe to an interactive table.\"\n",
              "              style=\"display:none;\">\n",
              "        \n",
              "  <svg xmlns=\"http://www.w3.org/2000/svg\" height=\"24px\"viewBox=\"0 0 24 24\"\n",
              "       width=\"24px\">\n",
              "    <path d=\"M0 0h24v24H0V0z\" fill=\"none\"/>\n",
              "    <path d=\"M18.56 5.44l.94 2.06.94-2.06 2.06-.94-2.06-.94-.94-2.06-.94 2.06-2.06.94zm-11 1L8.5 8.5l.94-2.06 2.06-.94-2.06-.94L8.5 2.5l-.94 2.06-2.06.94zm10 10l.94 2.06.94-2.06 2.06-.94-2.06-.94-.94-2.06-.94 2.06-2.06.94z\"/><path d=\"M17.41 7.96l-1.37-1.37c-.4-.4-.92-.59-1.43-.59-.52 0-1.04.2-1.43.59L10.3 9.45l-7.72 7.72c-.78.78-.78 2.05 0 2.83L4 21.41c.39.39.9.59 1.41.59.51 0 1.02-.2 1.41-.59l7.78-7.78 2.81-2.81c.8-.78.8-2.07 0-2.86zM5.41 20L4 18.59l7.72-7.72 1.47 1.35L5.41 20z\"/>\n",
              "  </svg>\n",
              "      </button>\n",
              "      \n",
              "  <style>\n",
              "    .colab-df-container {\n",
              "      display:flex;\n",
              "      flex-wrap:wrap;\n",
              "      gap: 12px;\n",
              "    }\n",
              "\n",
              "    .colab-df-convert {\n",
              "      background-color: #E8F0FE;\n",
              "      border: none;\n",
              "      border-radius: 50%;\n",
              "      cursor: pointer;\n",
              "      display: none;\n",
              "      fill: #1967D2;\n",
              "      height: 32px;\n",
              "      padding: 0 0 0 0;\n",
              "      width: 32px;\n",
              "    }\n",
              "\n",
              "    .colab-df-convert:hover {\n",
              "      background-color: #E2EBFA;\n",
              "      box-shadow: 0px 1px 2px rgba(60, 64, 67, 0.3), 0px 1px 3px 1px rgba(60, 64, 67, 0.15);\n",
              "      fill: #174EA6;\n",
              "    }\n",
              "\n",
              "    [theme=dark] .colab-df-convert {\n",
              "      background-color: #3B4455;\n",
              "      fill: #D2E3FC;\n",
              "    }\n",
              "\n",
              "    [theme=dark] .colab-df-convert:hover {\n",
              "      background-color: #434B5C;\n",
              "      box-shadow: 0px 1px 3px 1px rgba(0, 0, 0, 0.15);\n",
              "      filter: drop-shadow(0px 1px 2px rgba(0, 0, 0, 0.3));\n",
              "      fill: #FFFFFF;\n",
              "    }\n",
              "  </style>\n",
              "\n",
              "      <script>\n",
              "        const buttonEl =\n",
              "          document.querySelector('#df-356522bc-eb2e-4ca1-8801-d9ac561848f6 button.colab-df-convert');\n",
              "        buttonEl.style.display =\n",
              "          google.colab.kernel.accessAllowed ? 'block' : 'none';\n",
              "\n",
              "        async function convertToInteractive(key) {\n",
              "          const element = document.querySelector('#df-356522bc-eb2e-4ca1-8801-d9ac561848f6');\n",
              "          const dataTable =\n",
              "            await google.colab.kernel.invokeFunction('convertToInteractive',\n",
              "                                                     [key], {});\n",
              "          if (!dataTable) return;\n",
              "\n",
              "          const docLinkHtml = 'Like what you see? Visit the ' +\n",
              "            '<a target=\"_blank\" href=https://colab.research.google.com/notebooks/data_table.ipynb>data table notebook</a>'\n",
              "            + ' to learn more about interactive tables.';\n",
              "          element.innerHTML = '';\n",
              "          dataTable['output_type'] = 'display_data';\n",
              "          await google.colab.output.renderOutput(dataTable, element);\n",
              "          const docLink = document.createElement('div');\n",
              "          docLink.innerHTML = docLinkHtml;\n",
              "          element.appendChild(docLink);\n",
              "        }\n",
              "      </script>\n",
              "    </div>\n",
              "  </div>\n",
              "  "
            ],
            "text/plain": [
              "                                                   text label\n",
              "0     @lokmat बहुसंख्यांक हिंदूंना घाबरट आणि मुर्ख ब...  HATE\n",
              "1     @BalaNandgaonkar स्वतःचे खिसे भरत आहेत, यांना ...  HATE\n",
              "2     या पुचाट UNO पेक्षा आमच्याकडचं ENO जास्त प्रभा...  HATE\n",
              "3     एक हिजाब परिधान केलेली मुलगी काल परवापासून व्ह...  HATE\n",
              "4     @KiritSomaiya @BJP4India @BJP4Maharashtra जंगी...  HATE\n",
              "...                                                 ...   ...\n",
              "5370  कसले हे फालतू प्लांनिंग 😡 किती मूर्ख शार्प शूट...  HATE\n",
              "5371  बरेच अभिनेते हे कंगनासारखे मूर्ख, निर्बुद्ध आह...  HATE\n",
              "5372  शिवसेनेला इतकीच खुमखुमी असेल तर आगामी मुंबई ठा...  HATE\n",
              "5373  @Bina_j_2000 काही \" संघी \" आणि \" भक्त \" लोकांच...  HATE\n",
              "5374  @PradipGavade @RRPSpeaks हकालपट्टी चं खरं नेमक...  HATE\n",
              "\n",
              "[5375 rows x 2 columns]"
            ]
          },
          "execution_count": 16,
          "metadata": {},
          "output_type": "execute_result"
        }
      ],
      "source": [
        "df[df['label']=='HATE']"
      ],
      "id": "30abc619"
    },
    {
      "cell_type": "code",
      "execution_count": null,
      "metadata": {
        "colab": {
          "base_uri": "https://localhost:8080/",
          "height": 424
        },
        "id": "d1e0a070",
        "outputId": "ad26215d-7a78-4321-af29-b015fff21dda"
      },
      "outputs": [
        {
          "data": {
            "text/html": [
              "\n",
              "  <div id=\"df-ab99a014-02c8-4781-b6c5-fda658ddfdef\">\n",
              "    <div class=\"colab-df-container\">\n",
              "      <div>\n",
              "<style scoped>\n",
              "    .dataframe tbody tr th:only-of-type {\n",
              "        vertical-align: middle;\n",
              "    }\n",
              "\n",
              "    .dataframe tbody tr th {\n",
              "        vertical-align: top;\n",
              "    }\n",
              "\n",
              "    .dataframe thead th {\n",
              "        text-align: right;\n",
              "    }\n",
              "</style>\n",
              "<table border=\"1\" class=\"dataframe\">\n",
              "  <thead>\n",
              "    <tr style=\"text-align: right;\">\n",
              "      <th></th>\n",
              "      <th>text</th>\n",
              "      <th>label</th>\n",
              "    </tr>\n",
              "  </thead>\n",
              "  <tbody>\n",
              "    <tr>\n",
              "      <th>5375</th>\n",
              "      <td>हऱ्या नाऱ्या मुर्दाबाद!😡</td>\n",
              "      <td>OFFN</td>\n",
              "    </tr>\n",
              "    <tr>\n",
              "      <th>5376</th>\n",
              "      <td>@rajeshtope11 ये टोप्या ते आरोग्य विभाग चे पेप...</td>\n",
              "      <td>OFFN</td>\n",
              "    </tr>\n",
              "    <tr>\n",
              "      <th>5377</th>\n",
              "      <td>@Akkibhatkar @thakkar_sameet @Awhadspeaks @abp...</td>\n",
              "      <td>OFFN</td>\n",
              "    </tr>\n",
              "    <tr>\n",
              "      <th>5378</th>\n",
              "      <td>@AMOLVVN @abpmajhatv @CMOMaharashtra @zee24taa...</td>\n",
              "      <td>OFFN</td>\n",
              "    </tr>\n",
              "    <tr>\n",
              "      <th>5379</th>\n",
              "      <td>भाजप चा आज पर्यंत चा सर्वात टुकार प्रदेशाध्यक्...</td>\n",
              "      <td>OFFN</td>\n",
              "    </tr>\n",
              "    <tr>\n",
              "      <th>...</th>\n",
              "      <td>...</td>\n",
              "      <td>...</td>\n",
              "    </tr>\n",
              "    <tr>\n",
              "      <th>10745</th>\n",
              "      <td>@khadaksingh_ Tv9 वाले डुक्कर चा फोटो ब्लर करू...</td>\n",
              "      <td>OFFN</td>\n",
              "    </tr>\n",
              "    <tr>\n",
              "      <th>10746</th>\n",
              "      <td>@RakeshP56649186 @Dev_Fadnavis का रे लाळ चाट्य...</td>\n",
              "      <td>OFFN</td>\n",
              "    </tr>\n",
              "    <tr>\n",
              "      <th>10747</th>\n",
              "      <td>@MM_K_08 @trumptatya64 तोच आहे छपरी 😹आत्ता पण ...</td>\n",
              "      <td>OFFN</td>\n",
              "    </tr>\n",
              "    <tr>\n",
              "      <th>10748</th>\n",
              "      <td>येडी औलाद आहे हा गुणरत्न याला सोलून काढलं पाहि...</td>\n",
              "      <td>OFFN</td>\n",
              "    </tr>\n",
              "    <tr>\n",
              "      <th>10749</th>\n",
              "      <td>@trumptatya64 @Partner_97 😂😂😂 आला का माकडा तू</td>\n",
              "      <td>OFFN</td>\n",
              "    </tr>\n",
              "  </tbody>\n",
              "</table>\n",
              "<p>5375 rows × 2 columns</p>\n",
              "</div>\n",
              "      <button class=\"colab-df-convert\" onclick=\"convertToInteractive('df-ab99a014-02c8-4781-b6c5-fda658ddfdef')\"\n",
              "              title=\"Convert this dataframe to an interactive table.\"\n",
              "              style=\"display:none;\">\n",
              "        \n",
              "  <svg xmlns=\"http://www.w3.org/2000/svg\" height=\"24px\"viewBox=\"0 0 24 24\"\n",
              "       width=\"24px\">\n",
              "    <path d=\"M0 0h24v24H0V0z\" fill=\"none\"/>\n",
              "    <path d=\"M18.56 5.44l.94 2.06.94-2.06 2.06-.94-2.06-.94-.94-2.06-.94 2.06-2.06.94zm-11 1L8.5 8.5l.94-2.06 2.06-.94-2.06-.94L8.5 2.5l-.94 2.06-2.06.94zm10 10l.94 2.06.94-2.06 2.06-.94-2.06-.94-.94-2.06-.94 2.06-2.06.94z\"/><path d=\"M17.41 7.96l-1.37-1.37c-.4-.4-.92-.59-1.43-.59-.52 0-1.04.2-1.43.59L10.3 9.45l-7.72 7.72c-.78.78-.78 2.05 0 2.83L4 21.41c.39.39.9.59 1.41.59.51 0 1.02-.2 1.41-.59l7.78-7.78 2.81-2.81c.8-.78.8-2.07 0-2.86zM5.41 20L4 18.59l7.72-7.72 1.47 1.35L5.41 20z\"/>\n",
              "  </svg>\n",
              "      </button>\n",
              "      \n",
              "  <style>\n",
              "    .colab-df-container {\n",
              "      display:flex;\n",
              "      flex-wrap:wrap;\n",
              "      gap: 12px;\n",
              "    }\n",
              "\n",
              "    .colab-df-convert {\n",
              "      background-color: #E8F0FE;\n",
              "      border: none;\n",
              "      border-radius: 50%;\n",
              "      cursor: pointer;\n",
              "      display: none;\n",
              "      fill: #1967D2;\n",
              "      height: 32px;\n",
              "      padding: 0 0 0 0;\n",
              "      width: 32px;\n",
              "    }\n",
              "\n",
              "    .colab-df-convert:hover {\n",
              "      background-color: #E2EBFA;\n",
              "      box-shadow: 0px 1px 2px rgba(60, 64, 67, 0.3), 0px 1px 3px 1px rgba(60, 64, 67, 0.15);\n",
              "      fill: #174EA6;\n",
              "    }\n",
              "\n",
              "    [theme=dark] .colab-df-convert {\n",
              "      background-color: #3B4455;\n",
              "      fill: #D2E3FC;\n",
              "    }\n",
              "\n",
              "    [theme=dark] .colab-df-convert:hover {\n",
              "      background-color: #434B5C;\n",
              "      box-shadow: 0px 1px 3px 1px rgba(0, 0, 0, 0.15);\n",
              "      filter: drop-shadow(0px 1px 2px rgba(0, 0, 0, 0.3));\n",
              "      fill: #FFFFFF;\n",
              "    }\n",
              "  </style>\n",
              "\n",
              "      <script>\n",
              "        const buttonEl =\n",
              "          document.querySelector('#df-ab99a014-02c8-4781-b6c5-fda658ddfdef button.colab-df-convert');\n",
              "        buttonEl.style.display =\n",
              "          google.colab.kernel.accessAllowed ? 'block' : 'none';\n",
              "\n",
              "        async function convertToInteractive(key) {\n",
              "          const element = document.querySelector('#df-ab99a014-02c8-4781-b6c5-fda658ddfdef');\n",
              "          const dataTable =\n",
              "            await google.colab.kernel.invokeFunction('convertToInteractive',\n",
              "                                                     [key], {});\n",
              "          if (!dataTable) return;\n",
              "\n",
              "          const docLinkHtml = 'Like what you see? Visit the ' +\n",
              "            '<a target=\"_blank\" href=https://colab.research.google.com/notebooks/data_table.ipynb>data table notebook</a>'\n",
              "            + ' to learn more about interactive tables.';\n",
              "          element.innerHTML = '';\n",
              "          dataTable['output_type'] = 'display_data';\n",
              "          await google.colab.output.renderOutput(dataTable, element);\n",
              "          const docLink = document.createElement('div');\n",
              "          docLink.innerHTML = docLinkHtml;\n",
              "          element.appendChild(docLink);\n",
              "        }\n",
              "      </script>\n",
              "    </div>\n",
              "  </div>\n",
              "  "
            ],
            "text/plain": [
              "                                                    text label\n",
              "5375                            हऱ्या नाऱ्या मुर्दाबाद!😡  OFFN\n",
              "5376   @rajeshtope11 ये टोप्या ते आरोग्य विभाग चे पेप...  OFFN\n",
              "5377   @Akkibhatkar @thakkar_sameet @Awhadspeaks @abp...  OFFN\n",
              "5378   @AMOLVVN @abpmajhatv @CMOMaharashtra @zee24taa...  OFFN\n",
              "5379   भाजप चा आज पर्यंत चा सर्वात टुकार प्रदेशाध्यक्...  OFFN\n",
              "...                                                  ...   ...\n",
              "10745  @khadaksingh_ Tv9 वाले डुक्कर चा फोटो ब्लर करू...  OFFN\n",
              "10746  @RakeshP56649186 @Dev_Fadnavis का रे लाळ चाट्य...  OFFN\n",
              "10747  @MM_K_08 @trumptatya64 तोच आहे छपरी 😹आत्ता पण ...  OFFN\n",
              "10748  येडी औलाद आहे हा गुणरत्न याला सोलून काढलं पाहि...  OFFN\n",
              "10749      @trumptatya64 @Partner_97 😂😂😂 आला का माकडा तू  OFFN\n",
              "\n",
              "[5375 rows x 2 columns]"
            ]
          },
          "execution_count": 17,
          "metadata": {},
          "output_type": "execute_result"
        }
      ],
      "source": [
        "df[df['label']=='OFFN']"
      ],
      "id": "d1e0a070"
    },
    {
      "cell_type": "code",
      "execution_count": null,
      "metadata": {
        "colab": {
          "base_uri": "https://localhost:8080/",
          "height": 424
        },
        "id": "af723019",
        "outputId": "bbf8eaf0-cbda-41e1-d3c0-76d748eec4fe"
      },
      "outputs": [
        {
          "data": {
            "text/html": [
              "\n",
              "  <div id=\"df-6a29fc59-8145-4dc9-bf97-68ba12738a63\">\n",
              "    <div class=\"colab-df-container\">\n",
              "      <div>\n",
              "<style scoped>\n",
              "    .dataframe tbody tr th:only-of-type {\n",
              "        vertical-align: middle;\n",
              "    }\n",
              "\n",
              "    .dataframe tbody tr th {\n",
              "        vertical-align: top;\n",
              "    }\n",
              "\n",
              "    .dataframe thead th {\n",
              "        text-align: right;\n",
              "    }\n",
              "</style>\n",
              "<table border=\"1\" class=\"dataframe\">\n",
              "  <thead>\n",
              "    <tr style=\"text-align: right;\">\n",
              "      <th></th>\n",
              "      <th>text</th>\n",
              "      <th>label</th>\n",
              "    </tr>\n",
              "  </thead>\n",
              "  <tbody>\n",
              "    <tr>\n",
              "      <th>10750</th>\n",
              "      <td>@vandana9999999 हिच कि येत नाही मला झवायला दे</td>\n",
              "      <td>PRFN</td>\n",
              "    </tr>\n",
              "    <tr>\n",
              "      <th>10751</th>\n",
              "      <td>@ShivjeetSinh @sid_mahadik @sumrag ये गांडचाट्...</td>\n",
              "      <td>PRFN</td>\n",
              "    </tr>\n",
              "    <tr>\n",
              "      <th>10752</th>\n",
              "      <td>@Avadhutwaghbjp रान्डेच्या मी पन कोकनी हय पन आ...</td>\n",
              "      <td>PRFN</td>\n",
              "    </tr>\n",
              "    <tr>\n",
              "      <th>10753</th>\n",
              "      <td>आतीचे बोल आणि पुच्ची - https://t.co/Kcj3yTACDk</td>\n",
              "      <td>PRFN</td>\n",
              "    </tr>\n",
              "    <tr>\n",
              "      <th>10754</th>\n",
              "      <td>धनगर आरक्षण मिळाले? बाबासाहेब यांचे स्मारक तया...</td>\n",
              "      <td>PRFN</td>\n",
              "    </tr>\n",
              "    <tr>\n",
              "      <th>...</th>\n",
              "      <td>...</td>\n",
              "      <td>...</td>\n",
              "    </tr>\n",
              "    <tr>\n",
              "      <th>16120</th>\n",
              "      <td>@Meenamma126 निव्वळ बावळट आहोत आपन,,बायकोमुळं ...</td>\n",
              "      <td>PRFN</td>\n",
              "    </tr>\n",
              "    <tr>\n",
              "      <th>16121</th>\n",
              "      <td>@BhatkhalkarA अतुल्या आईघाल्या तु हिजडा आहे.</td>\n",
              "      <td>PRFN</td>\n",
              "    </tr>\n",
              "    <tr>\n",
              "      <th>16122</th>\n",
              "      <td>@National_Champ0 @Anand_Dasa88 @BrotherToGod त...</td>\n",
              "      <td>PRFN</td>\n",
              "    </tr>\n",
              "    <tr>\n",
              "      <th>16123</th>\n",
              "      <td>@Shriram_Jadhav1 @INCMaharashtra च्युत्या लिहि...</td>\n",
              "      <td>PRFN</td>\n",
              "    </tr>\n",
              "    <tr>\n",
              "      <th>16124</th>\n",
              "      <td>चालत्या बस मध्ये पुच्ची चाटली https://t.co/Pqz...</td>\n",
              "      <td>PRFN</td>\n",
              "    </tr>\n",
              "  </tbody>\n",
              "</table>\n",
              "<p>5375 rows × 2 columns</p>\n",
              "</div>\n",
              "      <button class=\"colab-df-convert\" onclick=\"convertToInteractive('df-6a29fc59-8145-4dc9-bf97-68ba12738a63')\"\n",
              "              title=\"Convert this dataframe to an interactive table.\"\n",
              "              style=\"display:none;\">\n",
              "        \n",
              "  <svg xmlns=\"http://www.w3.org/2000/svg\" height=\"24px\"viewBox=\"0 0 24 24\"\n",
              "       width=\"24px\">\n",
              "    <path d=\"M0 0h24v24H0V0z\" fill=\"none\"/>\n",
              "    <path d=\"M18.56 5.44l.94 2.06.94-2.06 2.06-.94-2.06-.94-.94-2.06-.94 2.06-2.06.94zm-11 1L8.5 8.5l.94-2.06 2.06-.94-2.06-.94L8.5 2.5l-.94 2.06-2.06.94zm10 10l.94 2.06.94-2.06 2.06-.94-2.06-.94-.94-2.06-.94 2.06-2.06.94z\"/><path d=\"M17.41 7.96l-1.37-1.37c-.4-.4-.92-.59-1.43-.59-.52 0-1.04.2-1.43.59L10.3 9.45l-7.72 7.72c-.78.78-.78 2.05 0 2.83L4 21.41c.39.39.9.59 1.41.59.51 0 1.02-.2 1.41-.59l7.78-7.78 2.81-2.81c.8-.78.8-2.07 0-2.86zM5.41 20L4 18.59l7.72-7.72 1.47 1.35L5.41 20z\"/>\n",
              "  </svg>\n",
              "      </button>\n",
              "      \n",
              "  <style>\n",
              "    .colab-df-container {\n",
              "      display:flex;\n",
              "      flex-wrap:wrap;\n",
              "      gap: 12px;\n",
              "    }\n",
              "\n",
              "    .colab-df-convert {\n",
              "      background-color: #E8F0FE;\n",
              "      border: none;\n",
              "      border-radius: 50%;\n",
              "      cursor: pointer;\n",
              "      display: none;\n",
              "      fill: #1967D2;\n",
              "      height: 32px;\n",
              "      padding: 0 0 0 0;\n",
              "      width: 32px;\n",
              "    }\n",
              "\n",
              "    .colab-df-convert:hover {\n",
              "      background-color: #E2EBFA;\n",
              "      box-shadow: 0px 1px 2px rgba(60, 64, 67, 0.3), 0px 1px 3px 1px rgba(60, 64, 67, 0.15);\n",
              "      fill: #174EA6;\n",
              "    }\n",
              "\n",
              "    [theme=dark] .colab-df-convert {\n",
              "      background-color: #3B4455;\n",
              "      fill: #D2E3FC;\n",
              "    }\n",
              "\n",
              "    [theme=dark] .colab-df-convert:hover {\n",
              "      background-color: #434B5C;\n",
              "      box-shadow: 0px 1px 3px 1px rgba(0, 0, 0, 0.15);\n",
              "      filter: drop-shadow(0px 1px 2px rgba(0, 0, 0, 0.3));\n",
              "      fill: #FFFFFF;\n",
              "    }\n",
              "  </style>\n",
              "\n",
              "      <script>\n",
              "        const buttonEl =\n",
              "          document.querySelector('#df-6a29fc59-8145-4dc9-bf97-68ba12738a63 button.colab-df-convert');\n",
              "        buttonEl.style.display =\n",
              "          google.colab.kernel.accessAllowed ? 'block' : 'none';\n",
              "\n",
              "        async function convertToInteractive(key) {\n",
              "          const element = document.querySelector('#df-6a29fc59-8145-4dc9-bf97-68ba12738a63');\n",
              "          const dataTable =\n",
              "            await google.colab.kernel.invokeFunction('convertToInteractive',\n",
              "                                                     [key], {});\n",
              "          if (!dataTable) return;\n",
              "\n",
              "          const docLinkHtml = 'Like what you see? Visit the ' +\n",
              "            '<a target=\"_blank\" href=https://colab.research.google.com/notebooks/data_table.ipynb>data table notebook</a>'\n",
              "            + ' to learn more about interactive tables.';\n",
              "          element.innerHTML = '';\n",
              "          dataTable['output_type'] = 'display_data';\n",
              "          await google.colab.output.renderOutput(dataTable, element);\n",
              "          const docLink = document.createElement('div');\n",
              "          docLink.innerHTML = docLinkHtml;\n",
              "          element.appendChild(docLink);\n",
              "        }\n",
              "      </script>\n",
              "    </div>\n",
              "  </div>\n",
              "  "
            ],
            "text/plain": [
              "                                                    text label\n",
              "10750      @vandana9999999 हिच कि येत नाही मला झवायला दे  PRFN\n",
              "10751  @ShivjeetSinh @sid_mahadik @sumrag ये गांडचाट्...  PRFN\n",
              "10752  @Avadhutwaghbjp रान्डेच्या मी पन कोकनी हय पन आ...  PRFN\n",
              "10753     आतीचे बोल आणि पुच्ची - https://t.co/Kcj3yTACDk  PRFN\n",
              "10754  धनगर आरक्षण मिळाले? बाबासाहेब यांचे स्मारक तया...  PRFN\n",
              "...                                                  ...   ...\n",
              "16120  @Meenamma126 निव्वळ बावळट आहोत आपन,,बायकोमुळं ...  PRFN\n",
              "16121       @BhatkhalkarA अतुल्या आईघाल्या तु हिजडा आहे.  PRFN\n",
              "16122  @National_Champ0 @Anand_Dasa88 @BrotherToGod त...  PRFN\n",
              "16123  @Shriram_Jadhav1 @INCMaharashtra च्युत्या लिहि...  PRFN\n",
              "16124  चालत्या बस मध्ये पुच्ची चाटली https://t.co/Pqz...  PRFN\n",
              "\n",
              "[5375 rows x 2 columns]"
            ]
          },
          "execution_count": 18,
          "metadata": {},
          "output_type": "execute_result"
        }
      ],
      "source": [
        "df[df['label']=='PRFN']"
      ],
      "id": "af723019"
    },
    {
      "cell_type": "code",
      "execution_count": null,
      "metadata": {
        "colab": {
          "base_uri": "https://localhost:8080/",
          "height": 424
        },
        "id": "4347cfaa",
        "outputId": "dc58c7d6-6ada-4632-957f-a9cb5490aeeb"
      },
      "outputs": [
        {
          "data": {
            "text/html": [
              "\n",
              "  <div id=\"df-e129f53e-37a5-497c-a801-72bd60cf7c76\">\n",
              "    <div class=\"colab-df-container\">\n",
              "      <div>\n",
              "<style scoped>\n",
              "    .dataframe tbody tr th:only-of-type {\n",
              "        vertical-align: middle;\n",
              "    }\n",
              "\n",
              "    .dataframe tbody tr th {\n",
              "        vertical-align: top;\n",
              "    }\n",
              "\n",
              "    .dataframe thead th {\n",
              "        text-align: right;\n",
              "    }\n",
              "</style>\n",
              "<table border=\"1\" class=\"dataframe\">\n",
              "  <thead>\n",
              "    <tr style=\"text-align: right;\">\n",
              "      <th></th>\n",
              "      <th>text</th>\n",
              "      <th>label</th>\n",
              "    </tr>\n",
              "  </thead>\n",
              "  <tbody>\n",
              "    <tr>\n",
              "      <th>16125</th>\n",
              "      <td>लष्कराकडून सातत्याने सुरु असलेल्या कॉम्बिंग ऑप...</td>\n",
              "      <td>NOT</td>\n",
              "    </tr>\n",
              "    <tr>\n",
              "      <th>16126</th>\n",
              "      <td>@girish_bhau @DrRisingStar1 पूर्ण ब्रह्म ! 🙏🥰 ...</td>\n",
              "      <td>NOT</td>\n",
              "    </tr>\n",
              "    <tr>\n",
              "      <th>16127</th>\n",
              "      <td>\"एका महाराष्ट्रीयाच्या हातून गांधींना मरण यायल...</td>\n",
              "      <td>NOT</td>\n",
              "    </tr>\n",
              "    <tr>\n",
              "      <th>16128</th>\n",
              "      <td>हॉकी मध्ये देश हरला की दलित खेळाडूला दोष द्या ...</td>\n",
              "      <td>NOT</td>\n",
              "    </tr>\n",
              "    <tr>\n",
              "      <th>16129</th>\n",
              "      <td>@SarkarnamaNews @CMOMaharashtra काय पत्रकार ? ...</td>\n",
              "      <td>NOT</td>\n",
              "    </tr>\n",
              "    <tr>\n",
              "      <th>...</th>\n",
              "      <td>...</td>\n",
              "      <td>...</td>\n",
              "    </tr>\n",
              "    <tr>\n",
              "      <th>21495</th>\n",
              "      <td>@kaay_samajleev माईच्या नावाने तर मळमळ जळजळ हो...</td>\n",
              "      <td>NOT</td>\n",
              "    </tr>\n",
              "    <tr>\n",
              "      <th>21496</th>\n",
              "      <td>घरी गणपती बाप्पाच्या दर्शनाला कोणी येऊ नये म्ह...</td>\n",
              "      <td>NOT</td>\n",
              "    </tr>\n",
              "    <tr>\n",
              "      <th>21497</th>\n",
              "      <td>@prakashpatil001 गरज नाही असल्या पांचट गोष्टी ...</td>\n",
              "      <td>NOT</td>\n",
              "    </tr>\n",
              "    <tr>\n",
              "      <th>21498</th>\n",
              "      <td>@khadaksingh_ त्यांच सोडा हो!!! 106 काय करतात?...</td>\n",
              "      <td>NOT</td>\n",
              "    </tr>\n",
              "    <tr>\n",
              "      <th>21499</th>\n",
              "      <td>\"समस्त हिंदू समाजाचे आराध्य दैवत\" 🚩छत्रपती शिव...</td>\n",
              "      <td>NOT</td>\n",
              "    </tr>\n",
              "  </tbody>\n",
              "</table>\n",
              "<p>5375 rows × 2 columns</p>\n",
              "</div>\n",
              "      <button class=\"colab-df-convert\" onclick=\"convertToInteractive('df-e129f53e-37a5-497c-a801-72bd60cf7c76')\"\n",
              "              title=\"Convert this dataframe to an interactive table.\"\n",
              "              style=\"display:none;\">\n",
              "        \n",
              "  <svg xmlns=\"http://www.w3.org/2000/svg\" height=\"24px\"viewBox=\"0 0 24 24\"\n",
              "       width=\"24px\">\n",
              "    <path d=\"M0 0h24v24H0V0z\" fill=\"none\"/>\n",
              "    <path d=\"M18.56 5.44l.94 2.06.94-2.06 2.06-.94-2.06-.94-.94-2.06-.94 2.06-2.06.94zm-11 1L8.5 8.5l.94-2.06 2.06-.94-2.06-.94L8.5 2.5l-.94 2.06-2.06.94zm10 10l.94 2.06.94-2.06 2.06-.94-2.06-.94-.94-2.06-.94 2.06-2.06.94z\"/><path d=\"M17.41 7.96l-1.37-1.37c-.4-.4-.92-.59-1.43-.59-.52 0-1.04.2-1.43.59L10.3 9.45l-7.72 7.72c-.78.78-.78 2.05 0 2.83L4 21.41c.39.39.9.59 1.41.59.51 0 1.02-.2 1.41-.59l7.78-7.78 2.81-2.81c.8-.78.8-2.07 0-2.86zM5.41 20L4 18.59l7.72-7.72 1.47 1.35L5.41 20z\"/>\n",
              "  </svg>\n",
              "      </button>\n",
              "      \n",
              "  <style>\n",
              "    .colab-df-container {\n",
              "      display:flex;\n",
              "      flex-wrap:wrap;\n",
              "      gap: 12px;\n",
              "    }\n",
              "\n",
              "    .colab-df-convert {\n",
              "      background-color: #E8F0FE;\n",
              "      border: none;\n",
              "      border-radius: 50%;\n",
              "      cursor: pointer;\n",
              "      display: none;\n",
              "      fill: #1967D2;\n",
              "      height: 32px;\n",
              "      padding: 0 0 0 0;\n",
              "      width: 32px;\n",
              "    }\n",
              "\n",
              "    .colab-df-convert:hover {\n",
              "      background-color: #E2EBFA;\n",
              "      box-shadow: 0px 1px 2px rgba(60, 64, 67, 0.3), 0px 1px 3px 1px rgba(60, 64, 67, 0.15);\n",
              "      fill: #174EA6;\n",
              "    }\n",
              "\n",
              "    [theme=dark] .colab-df-convert {\n",
              "      background-color: #3B4455;\n",
              "      fill: #D2E3FC;\n",
              "    }\n",
              "\n",
              "    [theme=dark] .colab-df-convert:hover {\n",
              "      background-color: #434B5C;\n",
              "      box-shadow: 0px 1px 3px 1px rgba(0, 0, 0, 0.15);\n",
              "      filter: drop-shadow(0px 1px 2px rgba(0, 0, 0, 0.3));\n",
              "      fill: #FFFFFF;\n",
              "    }\n",
              "  </style>\n",
              "\n",
              "      <script>\n",
              "        const buttonEl =\n",
              "          document.querySelector('#df-e129f53e-37a5-497c-a801-72bd60cf7c76 button.colab-df-convert');\n",
              "        buttonEl.style.display =\n",
              "          google.colab.kernel.accessAllowed ? 'block' : 'none';\n",
              "\n",
              "        async function convertToInteractive(key) {\n",
              "          const element = document.querySelector('#df-e129f53e-37a5-497c-a801-72bd60cf7c76');\n",
              "          const dataTable =\n",
              "            await google.colab.kernel.invokeFunction('convertToInteractive',\n",
              "                                                     [key], {});\n",
              "          if (!dataTable) return;\n",
              "\n",
              "          const docLinkHtml = 'Like what you see? Visit the ' +\n",
              "            '<a target=\"_blank\" href=https://colab.research.google.com/notebooks/data_table.ipynb>data table notebook</a>'\n",
              "            + ' to learn more about interactive tables.';\n",
              "          element.innerHTML = '';\n",
              "          dataTable['output_type'] = 'display_data';\n",
              "          await google.colab.output.renderOutput(dataTable, element);\n",
              "          const docLink = document.createElement('div');\n",
              "          docLink.innerHTML = docLinkHtml;\n",
              "          element.appendChild(docLink);\n",
              "        }\n",
              "      </script>\n",
              "    </div>\n",
              "  </div>\n",
              "  "
            ],
            "text/plain": [
              "                                                    text label\n",
              "16125  लष्कराकडून सातत्याने सुरु असलेल्या कॉम्बिंग ऑप...   NOT\n",
              "16126  @girish_bhau @DrRisingStar1 पूर्ण ब्रह्म ! 🙏🥰 ...   NOT\n",
              "16127  \"एका महाराष्ट्रीयाच्या हातून गांधींना मरण यायल...   NOT\n",
              "16128  हॉकी मध्ये देश हरला की दलित खेळाडूला दोष द्या ...   NOT\n",
              "16129  @SarkarnamaNews @CMOMaharashtra काय पत्रकार ? ...   NOT\n",
              "...                                                  ...   ...\n",
              "21495  @kaay_samajleev माईच्या नावाने तर मळमळ जळजळ हो...   NOT\n",
              "21496  घरी गणपती बाप्पाच्या दर्शनाला कोणी येऊ नये म्ह...   NOT\n",
              "21497  @prakashpatil001 गरज नाही असल्या पांचट गोष्टी ...   NOT\n",
              "21498  @khadaksingh_ त्यांच सोडा हो!!! 106 काय करतात?...   NOT\n",
              "21499  \"समस्त हिंदू समाजाचे आराध्य दैवत\" 🚩छत्रपती शिव...   NOT\n",
              "\n",
              "[5375 rows x 2 columns]"
            ]
          },
          "execution_count": 19,
          "metadata": {},
          "output_type": "execute_result"
        }
      ],
      "source": [
        "df[df['label']=='NOT']"
      ],
      "id": "4347cfaa"
    },
    {
      "cell_type": "code",
      "execution_count": null,
      "metadata": {
        "colab": {
          "base_uri": "https://localhost:8080/"
        },
        "id": "bb9e8dac",
        "outputId": "78b8a9c6-ec27-46ed-ecf9-d5bf92849faa"
      },
      "outputs": [
        {
          "data": {
            "text/plain": [
              "0        False\n",
              "1        False\n",
              "2        False\n",
              "3        False\n",
              "4        False\n",
              "         ...  \n",
              "21495    False\n",
              "21496    False\n",
              "21497    False\n",
              "21498    False\n",
              "21499    False\n",
              "Name: label, Length: 21500, dtype: bool"
            ]
          },
          "execution_count": 20,
          "metadata": {},
          "output_type": "execute_result"
        }
      ],
      "source": [
        "pd.isnull(df[\"label\"])"
      ],
      "id": "bb9e8dac"
    },
    {
      "cell_type": "code",
      "execution_count": null,
      "metadata": {
        "colab": {
          "base_uri": "https://localhost:8080/",
          "height": 223
        },
        "id": "1851bedb",
        "outputId": "687da748-a872-48fb-859f-54810e5d60ce"
      },
      "outputs": [
        {
          "name": "stdout",
          "output_type": "stream",
          "text": [
            "Shape of the DataFrame: (21500, 2)\n"
          ]
        },
        {
          "data": {
            "text/html": [
              "\n",
              "  <div id=\"df-eafb07a8-3499-43de-b148-353d828b645e\">\n",
              "    <div class=\"colab-df-container\">\n",
              "      <div>\n",
              "<style scoped>\n",
              "    .dataframe tbody tr th:only-of-type {\n",
              "        vertical-align: middle;\n",
              "    }\n",
              "\n",
              "    .dataframe tbody tr th {\n",
              "        vertical-align: top;\n",
              "    }\n",
              "\n",
              "    .dataframe thead th {\n",
              "        text-align: right;\n",
              "    }\n",
              "</style>\n",
              "<table border=\"1\" class=\"dataframe\">\n",
              "  <thead>\n",
              "    <tr style=\"text-align: right;\">\n",
              "      <th></th>\n",
              "      <th>text</th>\n",
              "      <th>label</th>\n",
              "    </tr>\n",
              "  </thead>\n",
              "  <tbody>\n",
              "    <tr>\n",
              "      <th>14244</th>\n",
              "      <td>कुवार्या मुलीची पुच्ची मारली https://t.co/kpnw...</td>\n",
              "      <td>PRFN</td>\n",
              "    </tr>\n",
              "    <tr>\n",
              "      <th>18816</th>\n",
              "      <td>मेडिकल ग्राउंड वर बेल कुठं आहे व्हील चेयर</td>\n",
              "      <td>NOT</td>\n",
              "    </tr>\n",
              "    <tr>\n",
              "      <th>4381</th>\n",
              "      <td>हि नीच मानसिकता वक्रमुखीचा चाहता झालं की आपोआप...</td>\n",
              "      <td>HATE</td>\n",
              "    </tr>\n",
              "    <tr>\n",
              "      <th>8448</th>\n",
              "      <td>अरे मुर्खा दोन वर्षांची तुलना पाच वर्षासी करतो...</td>\n",
              "      <td>OFFN</td>\n",
              "    </tr>\n",
              "    <tr>\n",
              "      <th>9540</th>\n",
              "      <td>@Devendra_Office @Dev_Fadnavis महाराष्ट्र भक्क...</td>\n",
              "      <td>OFFN</td>\n",
              "    </tr>\n",
              "  </tbody>\n",
              "</table>\n",
              "</div>\n",
              "      <button class=\"colab-df-convert\" onclick=\"convertToInteractive('df-eafb07a8-3499-43de-b148-353d828b645e')\"\n",
              "              title=\"Convert this dataframe to an interactive table.\"\n",
              "              style=\"display:none;\">\n",
              "        \n",
              "  <svg xmlns=\"http://www.w3.org/2000/svg\" height=\"24px\"viewBox=\"0 0 24 24\"\n",
              "       width=\"24px\">\n",
              "    <path d=\"M0 0h24v24H0V0z\" fill=\"none\"/>\n",
              "    <path d=\"M18.56 5.44l.94 2.06.94-2.06 2.06-.94-2.06-.94-.94-2.06-.94 2.06-2.06.94zm-11 1L8.5 8.5l.94-2.06 2.06-.94-2.06-.94L8.5 2.5l-.94 2.06-2.06.94zm10 10l.94 2.06.94-2.06 2.06-.94-2.06-.94-.94-2.06-.94 2.06-2.06.94z\"/><path d=\"M17.41 7.96l-1.37-1.37c-.4-.4-.92-.59-1.43-.59-.52 0-1.04.2-1.43.59L10.3 9.45l-7.72 7.72c-.78.78-.78 2.05 0 2.83L4 21.41c.39.39.9.59 1.41.59.51 0 1.02-.2 1.41-.59l7.78-7.78 2.81-2.81c.8-.78.8-2.07 0-2.86zM5.41 20L4 18.59l7.72-7.72 1.47 1.35L5.41 20z\"/>\n",
              "  </svg>\n",
              "      </button>\n",
              "      \n",
              "  <style>\n",
              "    .colab-df-container {\n",
              "      display:flex;\n",
              "      flex-wrap:wrap;\n",
              "      gap: 12px;\n",
              "    }\n",
              "\n",
              "    .colab-df-convert {\n",
              "      background-color: #E8F0FE;\n",
              "      border: none;\n",
              "      border-radius: 50%;\n",
              "      cursor: pointer;\n",
              "      display: none;\n",
              "      fill: #1967D2;\n",
              "      height: 32px;\n",
              "      padding: 0 0 0 0;\n",
              "      width: 32px;\n",
              "    }\n",
              "\n",
              "    .colab-df-convert:hover {\n",
              "      background-color: #E2EBFA;\n",
              "      box-shadow: 0px 1px 2px rgba(60, 64, 67, 0.3), 0px 1px 3px 1px rgba(60, 64, 67, 0.15);\n",
              "      fill: #174EA6;\n",
              "    }\n",
              "\n",
              "    [theme=dark] .colab-df-convert {\n",
              "      background-color: #3B4455;\n",
              "      fill: #D2E3FC;\n",
              "    }\n",
              "\n",
              "    [theme=dark] .colab-df-convert:hover {\n",
              "      background-color: #434B5C;\n",
              "      box-shadow: 0px 1px 3px 1px rgba(0, 0, 0, 0.15);\n",
              "      filter: drop-shadow(0px 1px 2px rgba(0, 0, 0, 0.3));\n",
              "      fill: #FFFFFF;\n",
              "    }\n",
              "  </style>\n",
              "\n",
              "      <script>\n",
              "        const buttonEl =\n",
              "          document.querySelector('#df-eafb07a8-3499-43de-b148-353d828b645e button.colab-df-convert');\n",
              "        buttonEl.style.display =\n",
              "          google.colab.kernel.accessAllowed ? 'block' : 'none';\n",
              "\n",
              "        async function convertToInteractive(key) {\n",
              "          const element = document.querySelector('#df-eafb07a8-3499-43de-b148-353d828b645e');\n",
              "          const dataTable =\n",
              "            await google.colab.kernel.invokeFunction('convertToInteractive',\n",
              "                                                     [key], {});\n",
              "          if (!dataTable) return;\n",
              "\n",
              "          const docLinkHtml = 'Like what you see? Visit the ' +\n",
              "            '<a target=\"_blank\" href=https://colab.research.google.com/notebooks/data_table.ipynb>data table notebook</a>'\n",
              "            + ' to learn more about interactive tables.';\n",
              "          element.innerHTML = '';\n",
              "          dataTable['output_type'] = 'display_data';\n",
              "          await google.colab.output.renderOutput(dataTable, element);\n",
              "          const docLink = document.createElement('div');\n",
              "          docLink.innerHTML = docLinkHtml;\n",
              "          element.appendChild(docLink);\n",
              "        }\n",
              "      </script>\n",
              "    </div>\n",
              "  </div>\n",
              "  "
            ],
            "text/plain": [
              "                                                    text label\n",
              "14244  कुवार्या मुलीची पुच्ची मारली https://t.co/kpnw...  PRFN\n",
              "18816          मेडिकल ग्राउंड वर बेल कुठं आहे व्हील चेयर   NOT\n",
              "4381   हि नीच मानसिकता वक्रमुखीचा चाहता झालं की आपोआप...  HATE\n",
              "8448   अरे मुर्खा दोन वर्षांची तुलना पाच वर्षासी करतो...  OFFN\n",
              "9540   @Devendra_Office @Dev_Fadnavis महाराष्ट्र भक्क...  OFFN"
            ]
          },
          "execution_count": 21,
          "metadata": {},
          "output_type": "execute_result"
        }
      ],
      "source": [
        "print(\"Shape of the DataFrame:\",df.shape)\n",
        "df.sample(5)"
      ],
      "id": "1851bedb"
    },
    {
      "cell_type": "code",
      "execution_count": null,
      "metadata": {
        "id": "91216544"
      },
      "outputs": [],
      "source": [
        "def custom_encoder(df):\n",
        "    df.replace(to_replace =\"NOT\", value =0, inplace=True)\n",
        "    df.replace(to_replace =\"OFFN\", value =1, inplace=True)\n",
        "    df.replace(to_replace =\"HATE\", value =2, inplace=True)\n",
        "    df.replace(to_replace =\"PRFN\", value =3, inplace=True)"
      ],
      "id": "91216544"
    },
    {
      "cell_type": "code",
      "execution_count": null,
      "metadata": {
        "id": "208b17c0"
      },
      "outputs": [],
      "source": [
        "custom_encoder(df['label'])"
      ],
      "id": "208b17c0"
    },
    {
      "cell_type": "code",
      "execution_count": null,
      "metadata": {
        "colab": {
          "base_uri": "https://localhost:8080/"
        },
        "id": "e0deb98e",
        "outputId": "83c10d7c-b0ef-4198-f46c-27c1ef721296"
      },
      "outputs": [
        {
          "name": "stdout",
          "output_type": "stream",
          "text": [
            "[2 1 3 0]\n"
          ]
        }
      ],
      "source": [
        "task1_unique = df['label'].unique()\n",
        "print(task1_unique)"
      ],
      "id": "e0deb98e"
    },
    {
      "cell_type": "markdown",
      "metadata": {
        "id": "83118194"
      },
      "source": [
        "# Word Count"
      ],
      "id": "83118194"
    },
    {
      "cell_type": "code",
      "execution_count": null,
      "metadata": {
        "colab": {
          "base_uri": "https://localhost:8080/"
        },
        "id": "b3596bd3",
        "outputId": "f7ee3ddb-f891-472c-9865-fc58f9cc855c"
      },
      "outputs": [
        {
          "name": "stdout",
          "output_type": "stream",
          "text": [
            "20.528186046511628\n",
            "19.34939534883721\n",
            "21.283906976744188\n",
            "17.479627906976745\n"
          ]
        }
      ],
      "source": [
        "df['word_count'] = df['text'].apply(lambda x: len(str(x).split()))\n",
        "print(df[df['label']==0]['word_count'].mean()) #NOT\n",
        "print(df[df['label']==1]['word_count'].mean()) #OFFN\n",
        "print(df[df['label']==2]['word_count'].mean()) #HATE\n",
        "print(df[df['label']==3]['word_count'].mean()) #PRFN"
      ],
      "id": "b3596bd3"
    },
    {
      "cell_type": "markdown",
      "metadata": {
        "id": "1d86c3fb"
      },
      "source": [
        "# Character Count"
      ],
      "id": "1d86c3fb"
    },
    {
      "cell_type": "code",
      "execution_count": null,
      "metadata": {
        "colab": {
          "base_uri": "https://localhost:8080/"
        },
        "id": "7e8d8720",
        "outputId": "84f85ca9-c553-4597-89ef-4a6b5c1fb02c"
      },
      "outputs": [
        {
          "name": "stdout",
          "output_type": "stream",
          "text": [
            "143.38697674418606\n",
            "129.6474418604651\n",
            "145.8993488372093\n",
            "119.26567441860465\n"
          ]
        }
      ],
      "source": [
        "df['char_count'] = df['text'].apply(lambda x: len(str(x)))\n",
        "print(df[df['label']==0]['char_count'].mean()) #NOT\n",
        "print(df[df['label']==1]['char_count'].mean()) #OFFN\n",
        "print(df[df['label']==2]['char_count'].mean()) #HATE\n",
        "print(df[df['label']==3]['char_count'].mean()) #PRFN"
      ],
      "id": "7e8d8720"
    },
    {
      "cell_type": "markdown",
      "metadata": {
        "id": "4db4f8e7"
      },
      "source": [
        "# Unique Word Count"
      ],
      "id": "4db4f8e7"
    },
    {
      "cell_type": "code",
      "execution_count": null,
      "metadata": {
        "colab": {
          "base_uri": "https://localhost:8080/"
        },
        "id": "78296806",
        "outputId": "59ed1230-394b-44a2-ce37-217c83744c88",
        "scrolled": true
      },
      "outputs": [
        {
          "name": "stdout",
          "output_type": "stream",
          "text": [
            "19.56595348837209\n",
            "18.570046511627908\n",
            "20.418418604651162\n",
            "16.74474418604651\n"
          ]
        }
      ],
      "source": [
        "df['unique_word_count'] = df['text'].apply(lambda x: len(set(str(x).split())))\n",
        "print(df[df['label']==0]['unique_word_count'].mean()) #NOT\n",
        "print(df[df['label']==1]['unique_word_count'].mean()) #OFFN\n",
        "print(df[df['label']==2]['unique_word_count'].mean()) #HATE\n",
        "print(df[df['label']==3]['unique_word_count'].mean()) #PRFN"
      ],
      "id": "78296806"
    },
    {
      "cell_type": "code",
      "execution_count": null,
      "metadata": {
        "colab": {
          "base_uri": "https://localhost:8080/",
          "height": 294
        },
        "id": "b14aea61",
        "outputId": "48c5768e-5818-4fa4-b253-8b04a7d18855"
      },
      "outputs": [
        {
          "data": {
            "image/png": "[encoded data removed]",
            "text/plain": [
              "<Figure size 720x288 with 2 Axes>"
            ]
          },
          "metadata": {},
          "output_type": "display_data"
        }
      ],
      "source": [
        "%matplotlib inline\n",
        "from matplotlib import pyplot as plt\n",
        "fig,(ax1,ax2)=plt.subplots(1,2,figsize=(10,4))\n",
        "\n",
        "train_words=df[df['label']==0]['word_count']\n",
        "ax1.hist(train_words,color='red')\n",
        "ax1.set_title('NOT')\n",
        "\n",
        "train_words=df[df['label']==1]['word_count']\n",
        "ax2.hist(train_words,color='blue')\n",
        "ax2.set_title('Offensive')\n",
        "\n",
        "fig.suptitle('Words per tweet')\n",
        "plt.show()"
      ],
      "id": "b14aea61"
    },
    {
      "cell_type": "code",
      "execution_count": null,
      "metadata": {
        "colab": {
          "base_uri": "https://localhost:8080/",
          "height": 294
        },
        "id": "33f08233",
        "outputId": "a12fb9c5-8bbd-4da1-a370-ccadc24bb195"
      },
      "outputs": [
        {
          "data": {
            "image/png": "[encoded data removed]",
            "text/plain": [
              "<Figure size 720x288 with 2 Axes>"
            ]
          },
          "metadata": {},
          "output_type": "display_data"
        }
      ],
      "source": [
        "%matplotlib inline\n",
        "from matplotlib import pyplot as plt\n",
        "fig,(ax1,ax2)=plt.subplots(1,2,figsize=(10,4))\n",
        "\n",
        "train_words=df[df['label']==2]['word_count']\n",
        "ax1.hist(train_words,color='red')\n",
        "ax1.set_title('HATE')\n",
        "\n",
        "train_words=df[df['label']==3]['word_count']\n",
        "ax2.hist(train_words,color='blue')\n",
        "ax2.set_title('PRFN')\n",
        "\n",
        "fig.suptitle('Words per tweet')\n",
        "plt.show()"
      ],
      "id": "33f08233"
    },
    {
      "cell_type": "markdown",
      "metadata": {
        "id": "ac33a284"
      },
      "source": [
        "# Common text preprocessing"
      ],
      "id": "ac33a284"
    },
    {
      "cell_type": "code",
      "execution_count": null,
      "metadata": {
        "colab": {
          "base_uri": "https://localhost:8080/"
        },
        "id": "526802be",
        "outputId": "eb2e1945-a372-42d9-dadf-3918d0b925dc"
      },
      "outputs": [
        {
          "name": "stdout",
          "output_type": "stream",
          "text": [
            "Looking in indexes: https://pypi.org/simple, https://us-python.pkg.dev/colab-wheels/public/simple/\n",
            "Requirement already satisfied: nltk in /usr/local/lib/python3.8/dist-packages (3.7)\n",
            "Requirement already satisfied: joblib in /usr/local/lib/python3.8/dist-packages (from nltk) (1.2.0)\n",
            "Requirement already satisfied: regex>=2021.8.3 in /usr/local/lib/python3.8/dist-packages (from nltk) (2022.6.2)\n",
            "Requirement already satisfied: click in /usr/local/lib/python3.8/dist-packages (from nltk) (7.1.2)\n",
            "Requirement already satisfied: tqdm in /usr/local/lib/python3.8/dist-packages (from nltk) (4.64.1)\n"
          ]
        },
        {
          "name": "stderr",
          "output_type": "stream",
          "text": [
            "[nltk_data] Downloading package wordnet to /root/nltk_data...\n"
          ]
        },
        {
          "data": {
            "text/plain": [
              "True"
            ]
          },
          "execution_count": 30,
          "metadata": {},
          "output_type": "execute_result"
        }
      ],
      "source": [
        "!pip install nltk\n",
        "import nltk\n",
        "nltk.download('wordnet')"
      ],
      "id": "526802be"
    },
    {
      "cell_type": "code",
      "execution_count": null,
      "metadata": {
        "id": "oM0G0-ARIR2r"
      },
      "outputs": [],
      "source": [
        "from nltk.tag import untag\n",
        "from nltk import UnigramTagger"
      ],
      "id": "oM0G0-ARIR2r"
    },
    {
      "cell_type": "code",
      "execution_count": null,
      "metadata": {
        "colab": {
          "base_uri": "https://localhost:8080/"
        },
        "id": "a012eff8",
        "outputId": "ecbe8ffb-00a1-4160-9e90-5cae58af5c9a"
      },
      "outputs": [
        {
          "name": "stderr",
          "output_type": "stream",
          "text": [
            "[nltk_data] Downloading package indian to /root/nltk_data...\n",
            "[nltk_data]   Unzipping corpora/indian.zip.\n"
          ]
        }
      ],
      "source": [
        "from nltk.corpus import indian\n",
        "nltk.download('indian')\n",
        "tagged_set = 'marathi.pos'\n",
        "from nltk import word_tokenize\n",
        "from nltk.tag import untag\n",
        "from nltk import UnigramTagger\n",
        "\n",
        "tagged_set = 'marathi.pos'\n",
        "articles = indian.sents(tagged_set)\n",
        "count=len(articles)\n",
        "data = indian.tagged_sents(tagged_set)\n",
        "unigram_tag = UnigramTagger(data)\n",
        "unigram_tagger = UnigramTagger(data,backoff=nltk.DefaultTagger('NN'))\n"
      ],
      "id": "a012eff8"
    },
    {
      "cell_type": "code",
      "execution_count": null,
      "metadata": {
        "id": "8927bd6e"
      },
      "outputs": [],
      "source": [
        "\n",
        "from nltk.stem.wordnet import WordNetLemmatizer\n",
        "from nltk.corpus import stopwords\n",
        "from nltk.corpus import wordnet\n",
        "from nltk.tokenize import sent_tokenize, word_tokenize\n",
        "\n",
        "\n",
        "def preprocess(text):\n",
        "    text = text.lower()\n",
        "    text=text.strip()\n",
        "    text=re.compile('<.*?>').sub('', text)\n",
        "#     text = re.compile('[%s]' % re.escape(string.punctuation)).sub(' ', text)\n",
        "    text = re.sub('\\s+', ' ', text)\n",
        "    text = re.sub(r'\\[[0-9]*\\]',' ',text)\n",
        "    text=re.sub(r'[^\\w\\s]', '', str(text).lower().strip())\n",
        "    text = re.sub(r'\\d',' ',text)\n",
        "    text = re.sub(r'\\s+',' ',text)\n",
        "    return text\n",
        "\n",
        "\n",
        "# STOPWORD REMOVAL\n",
        "def stopword(string):\n",
        "    a= [i for i in string.split() if i not in stopwords.words('english')]\n",
        "    return ' '.join(a)\n",
        "# #LEMMATIZATION\n",
        "# # Initialize the lemmatizer\n",
        "wl = WordNetLemmatizer()\n",
        "\n",
        "# # This is a helper function to map NTLK position tags\n",
        "def get_wordnet_pos(tag):\n",
        "    if tag.startswith('J'):\n",
        "        return wordnet.ADJ\n",
        "    elif tag.startswith('V'):\n",
        "        return wordnet.VERB\n",
        "    elif tag.startswith('N'):\n",
        "        return wordnet.NOUN\n",
        "    elif tag.startswith('R'):\n",
        "        return wordnet.ADV\n",
        "    else:\n",
        "        return wordnet.NOUN\n",
        "# Tokenize the sentence\n",
        "def lemmatizer(string):\n",
        "    word_pos_tags = unigram_tagger.tag(word_tokenize(string)) # Get position tags\n",
        "\n",
        "    #print(word_pos_tags)\n",
        "\n",
        "    a=[wl.lemmatize(tag[0],get_wordnet_pos(tag[1])) for idx, tag in enumerate(word_pos_tags)]\n",
        "    print(a) # Map the position tag and lemmatize the word/token\n",
        "    return \" \".join(a)\n"
      ],
      "id": "8927bd6e"
    },
    {
      "cell_type": "code",
      "execution_count": null,
      "metadata": {
        "colab": {
          "base_uri": "https://localhost:8080/",
          "height": 206
        },
        "id": "749b31ff",
        "outputId": "accc0cba-45e4-4f2f-a19e-f1b44a33056b"
      },
      "outputs": [
        {
          "data": {
            "text/html": [
              "\n",
              "  <div id=\"df-328ea2e6-91d4-4a97-9d5c-9ba5341ba104\">\n",
              "    <div class=\"colab-df-container\">\n",
              "      <div>\n",
              "<style scoped>\n",
              "    .dataframe tbody tr th:only-of-type {\n",
              "        vertical-align: middle;\n",
              "    }\n",
              "\n",
              "    .dataframe tbody tr th {\n",
              "        vertical-align: top;\n",
              "    }\n",
              "\n",
              "    .dataframe thead th {\n",
              "        text-align: right;\n",
              "    }\n",
              "</style>\n",
              "<table border=\"1\" class=\"dataframe\">\n",
              "  <thead>\n",
              "    <tr style=\"text-align: right;\">\n",
              "      <th></th>\n",
              "      <th>text</th>\n",
              "      <th>label</th>\n",
              "      <th>word_count</th>\n",
              "      <th>char_count</th>\n",
              "      <th>unique_word_count</th>\n",
              "    </tr>\n",
              "  </thead>\n",
              "  <tbody>\n",
              "    <tr>\n",
              "      <th>0</th>\n",
              "      <td>@lokmat बहुसंख्यांक हिंदूंना घाबरट आणि मुर्ख ब...</td>\n",
              "      <td>2</td>\n",
              "      <td>9</td>\n",
              "      <td>59</td>\n",
              "      <td>9</td>\n",
              "    </tr>\n",
              "    <tr>\n",
              "      <th>1</th>\n",
              "      <td>@BalaNandgaonkar स्वतःचे खिसे भरत आहेत, यांना ...</td>\n",
              "      <td>2</td>\n",
              "      <td>20</td>\n",
              "      <td>130</td>\n",
              "      <td>20</td>\n",
              "    </tr>\n",
              "    <tr>\n",
              "      <th>2</th>\n",
              "      <td>या पुचाट UNO पेक्षा आमच्याकडचं ENO जास्त प्रभा...</td>\n",
              "      <td>2</td>\n",
              "      <td>12</td>\n",
              "      <td>88</td>\n",
              "      <td>12</td>\n",
              "    </tr>\n",
              "    <tr>\n",
              "      <th>3</th>\n",
              "      <td>एक हिजाब परिधान केलेली मुलगी काल परवापासून व्ह...</td>\n",
              "      <td>2</td>\n",
              "      <td>32</td>\n",
              "      <td>194</td>\n",
              "      <td>32</td>\n",
              "    </tr>\n",
              "    <tr>\n",
              "      <th>4</th>\n",
              "      <td>@KiritSomaiya @BJP4India @BJP4Maharashtra जंगी...</td>\n",
              "      <td>2</td>\n",
              "      <td>32</td>\n",
              "      <td>303</td>\n",
              "      <td>31</td>\n",
              "    </tr>\n",
              "  </tbody>\n",
              "</table>\n",
              "</div>\n",
              "      <button class=\"colab-df-convert\" onclick=\"convertToInteractive('df-328ea2e6-91d4-4a97-9d5c-9ba5341ba104')\"\n",
              "              title=\"Convert this dataframe to an interactive table.\"\n",
              "              style=\"display:none;\">\n",
              "        \n",
              "  <svg xmlns=\"http://www.w3.org/2000/svg\" height=\"24px\"viewBox=\"0 0 24 24\"\n",
              "       width=\"24px\">\n",
              "    <path d=\"M0 0h24v24H0V0z\" fill=\"none\"/>\n",
              "    <path d=\"M18.56 5.44l.94 2.06.94-2.06 2.06-.94-2.06-.94-.94-2.06-.94 2.06-2.06.94zm-11 1L8.5 8.5l.94-2.06 2.06-.94-2.06-.94L8.5 2.5l-.94 2.06-2.06.94zm10 10l.94 2.06.94-2.06 2.06-.94-2.06-.94-.94-2.06-.94 2.06-2.06.94z\"/><path d=\"M17.41 7.96l-1.37-1.37c-.4-.4-.92-.59-1.43-.59-.52 0-1.04.2-1.43.59L10.3 9.45l-7.72 7.72c-.78.78-.78 2.05 0 2.83L4 21.41c.39.39.9.59 1.41.59.51 0 1.02-.2 1.41-.59l7.78-7.78 2.81-2.81c.8-.78.8-2.07 0-2.86zM5.41 20L4 18.59l7.72-7.72 1.47 1.35L5.41 20z\"/>\n",
              "  </svg>\n",
              "      </button>\n",
              "      \n",
              "  <style>\n",
              "    .colab-df-container {\n",
              "      display:flex;\n",
              "      flex-wrap:wrap;\n",
              "      gap: 12px;\n",
              "    }\n",
              "\n",
              "    .colab-df-convert {\n",
              "      background-color: #E8F0FE;\n",
              "      border: none;\n",
              "      border-radius: 50%;\n",
              "      cursor: pointer;\n",
              "      display: none;\n",
              "      fill: #1967D2;\n",
              "      height: 32px;\n",
              "      padding: 0 0 0 0;\n",
              "      width: 32px;\n",
              "    }\n",
              "\n",
              "    .colab-df-convert:hover {\n",
              "      background-color: #E2EBFA;\n",
              "      box-shadow: 0px 1px 2px rgba(60, 64, 67, 0.3), 0px 1px 3px 1px rgba(60, 64, 67, 0.15);\n",
              "      fill: #174EA6;\n",
              "    }\n",
              "\n",
              "    [theme=dark] .colab-df-convert {\n",
              "      background-color: #3B4455;\n",
              "      fill: #D2E3FC;\n",
              "    }\n",
              "\n",
              "    [theme=dark] .colab-df-convert:hover {\n",
              "      background-color: #434B5C;\n",
              "      box-shadow: 0px 1px 3px 1px rgba(0, 0, 0, 0.15);\n",
              "      filter: drop-shadow(0px 1px 2px rgba(0, 0, 0, 0.3));\n",
              "      fill: #FFFFFF;\n",
              "    }\n",
              "  </style>\n",
              "\n",
              "      <script>\n",
              "        const buttonEl =\n",
              "          document.querySelector('#df-328ea2e6-91d4-4a97-9d5c-9ba5341ba104 button.colab-df-convert');\n",
              "        buttonEl.style.display =\n",
              "          google.colab.kernel.accessAllowed ? 'block' : 'none';\n",
              "\n",
              "        async function convertToInteractive(key) {\n",
              "          const element = document.querySelector('#df-328ea2e6-91d4-4a97-9d5c-9ba5341ba104');\n",
              "          const dataTable =\n",
              "            await google.colab.kernel.invokeFunction('convertToInteractive',\n",
              "                                                     [key], {});\n",
              "          if (!dataTable) return;\n",
              "\n",
              "          const docLinkHtml = 'Like what you see? Visit the ' +\n",
              "            '<a target=\"_blank\" href=https://colab.research.google.com/notebooks/data_table.ipynb>data table notebook</a>'\n",
              "            + ' to learn more about interactive tables.';\n",
              "          element.innerHTML = '';\n",
              "          dataTable['output_type'] = 'display_data';\n",
              "          await google.colab.output.renderOutput(dataTable, element);\n",
              "          const docLink = document.createElement('div');\n",
              "          docLink.innerHTML = docLinkHtml;\n",
              "          element.appendChild(docLink);\n",
              "        }\n",
              "      </script>\n",
              "    </div>\n",
              "  </div>\n",
              "  "
            ],
            "text/plain": [
              "                                                text  label  word_count  \\\n",
              "0  @lokmat बहुसंख्यांक हिंदूंना घाबरट आणि मुर्ख ब...      2           9   \n",
              "1  @BalaNandgaonkar स्वतःचे खिसे भरत आहेत, यांना ...      2          20   \n",
              "2  या पुचाट UNO पेक्षा आमच्याकडचं ENO जास्त प्रभा...      2          12   \n",
              "3  एक हिजाब परिधान केलेली मुलगी काल परवापासून व्ह...      2          32   \n",
              "4  @KiritSomaiya @BJP4India @BJP4Maharashtra जंगी...      2          32   \n",
              "\n",
              "   char_count  unique_word_count  \n",
              "0          59                  9  \n",
              "1         130                 20  \n",
              "2          88                 12  \n",
              "3         194                 32  \n",
              "4         303                 31  "
            ]
          },
          "execution_count": 34,
          "metadata": {},
          "output_type": "execute_result"
        }
      ],
      "source": [
        "df.head()"
      ],
      "id": "749b31ff"
    },
    {
      "cell_type": "code",
      "execution_count": null,
      "metadata": {
        "colab": {
          "base_uri": "https://localhost:8080/"
        },
        "id": "eda0d6a7",
        "outputId": "7813542d-76ac-447e-962a-e60646c5b3cd"
      },
      "outputs": [
        {
          "name": "stderr",
          "output_type": "stream",
          "text": [
            "[nltk_data] Downloading package stopwords to /root/nltk_data...\n",
            "[nltk_data]   Unzipping corpora/stopwords.zip.\n"
          ]
        },
        {
          "data": {
            "text/plain": [
              "True"
            ]
          },
          "execution_count": 35,
          "metadata": {},
          "output_type": "execute_result"
        }
      ],
      "source": [
        "import nltk\n",
        "nltk.download('stopwords')"
      ],
      "id": "eda0d6a7"
    },
    {
      "cell_type": "code",
      "execution_count": null,
      "metadata": {
        "colab": {
          "base_uri": "https://localhost:8080/"
        },
        "id": "f6e530fd",
        "outputId": "2cb607b1-8682-4427-8a00-5178fac39383"
      },
      "outputs": [
        {
          "name": "stderr",
          "output_type": "stream",
          "text": [
            "[nltk_data] Downloading package punkt to /root/nltk_data...\n",
            "[nltk_data]   Unzipping tokenizers/punkt.zip.\n"
          ]
        },
        {
          "data": {
            "text/plain": [
              "True"
            ]
          },
          "execution_count": 36,
          "metadata": {},
          "output_type": "execute_result"
        }
      ],
      "source": [
        "nltk.download('punkt')"
      ],
      "id": "f6e530fd"
    },
    {
      "cell_type": "code",
      "execution_count": null,
      "metadata": {
        "colab": {
          "base_uri": "https://localhost:8080/"
        },
        "id": "bb7f85e7",
        "outputId": "d1dbbeea-32e5-44a1-ce09-1029ceeb97ab"
      },
      "outputs": [
        {
          "name": "stderr",
          "output_type": "stream",
          "text": [
            "[nltk_data] Downloading package averaged_perceptron_tagger to\n",
            "[nltk_data]     /root/nltk_data...\n",
            "[nltk_data]   Unzipping taggers/averaged_perceptron_tagger.zip.\n"
          ]
        },
        {
          "data": {
            "text/plain": [
              "True"
            ]
          },
          "execution_count": 37,
          "metadata": {},
          "output_type": "execute_result"
        }
      ],
      "source": [
        "nltk.download('averaged_perceptron_tagger')"
      ],
      "id": "bb7f85e7"
    },
    {
      "cell_type": "code",
      "execution_count": null,
      "metadata": {
        "colab": {
          "background_save": true
        },
        "id": "d10a2328"
      },
      "outputs": [],
      "source": [
        "import re\n",
        "import nltk\n",
        "nltk.download('omw-1.4')\n",
        "def finalpreprocess(string):\n",
        "    return lemmatizer(stopword(preprocess(string)))\n",
        "df['clean_text'] = df['text'].apply(lambda x: finalpreprocess(x))\n",
        "df.head()"
      ],
      "id": "d10a2328"
    },
    {
      "cell_type": "code",
      "execution_count": null,
      "metadata": {
        "id": "8917a344"
      },
      "outputs": [],
      "source": [
        "new_df = df[['clean_text','label']]"
      ],
      "id": "8917a344"
    },
    {
      "cell_type": "code",
      "execution_count": null,
      "metadata": {
        "id": "d4b7b5f6"
      },
      "outputs": [],
      "source": [
        "new_df.head()"
      ],
      "id": "d4b7b5f6"
    },
    {
      "cell_type": "code",
      "execution_count": null,
      "metadata": {
        "colab": {
          "base_uri": "https://localhost:8080/"
        },
        "id": "7e12439f",
        "outputId": "22b4fdde-c8dd-4d69-fd6a-9e9cba3c419c"
      },
      "outputs": [
        {
          "data": {
            "text/plain": [
              "2    5375\n",
              "1    5375\n",
              "3    5375\n",
              "0    5375\n",
              "Name: label, dtype: int64"
            ]
          },
          "execution_count": 42,
          "metadata": {},
          "output_type": "execute_result"
        }
      ],
      "source": [
        "df['label'].value_counts()"
      ],
      "id": "7e12439f"
    },
    {
      "cell_type": "code",
      "execution_count": null,
      "metadata": {
        "id": "36967ea8"
      },
      "outputs": [],
      "source": [
        "new_df[\"clean_text\"] = new_df[\"clean_text\"].str.lower() #.str.split()\n",
        "new_df.head(5)"
      ],
      "id": "36967ea8"
    },
    {
      "cell_type": "code",
      "execution_count": null,
      "metadata": {
        "id": "c5afa363"
      },
      "outputs": [],
      "source": [
        "nltk.download('stopwords')"
      ],
      "id": "c5afa363"
    },
    {
      "cell_type": "code",
      "execution_count": null,
      "metadata": {
        "id": "e5097fcc"
      },
      "outputs": [],
      "source": [
        "from nltk.corpus import stopwords\n",
        "stop = stopwords.words('english')"
      ],
      "id": "e5097fcc"
    },
    {
      "cell_type": "code",
      "execution_count": null,
      "metadata": {
        "colab": {
          "base_uri": "https://localhost:8080/"
        },
        "id": "88c0210d",
        "outputId": "df91d451-aaba-43f6-9bbb-7401ac9b3d8e"
      },
      "outputs": [
        {
          "data": {
            "text/plain": [
              "0        [l, k,  , ब, ह, स, ख, य, क,  , ह, द, न,  , घ, ...\n",
              "1        [b, l, n, n, g, n, k, r,  , स, व, त, च,  , ख, ...\n",
              "2        [य,  , प, च, ट,  , u, n,  , प, क, ष,  , आ, म, ...\n",
              "3        [ए, क,  , ह, ज, ब,  , प, र, ध, न,  , क, ल, ल, ...\n",
              "4        [k, r,  , b, j, p,  , n,  , b, j, p,  , h, r, ...\n",
              "                               ...                        \n",
              "21495    [k, _, j, l, e, e, v,  , म, ई, च, य,  , न, व, ...\n",
              "21496    [घ, र,  , ग, ण, प, त,  , ब, प, प, च, य,  , द, ...\n",
              "21497    [p, r, k, h, p, l,  , ग, र, ज,  , न, ह,  , अ, ...\n",
              "21498    [k, h, k, n, g, h, _,  , त, य, च,  , स, ड,  , ...\n",
              "21499    [स, म, स, त,  , ह, द,  , स, म, ज, च,  , आ, र, ...\n",
              "Name: clean_text, Length: 21500, dtype: object"
            ]
          },
          "execution_count": 46,
          "metadata": {},
          "output_type": "execute_result"
        }
      ],
      "source": [
        "new_df['clean_text'].apply(lambda x: [item for item in x if item not in stop])"
      ],
      "id": "88c0210d"
    },
    {
      "cell_type": "markdown",
      "metadata": {
        "id": "f09f8ad2"
      },
      "source": [
        "# Train and Test"
      ],
      "id": "f09f8ad2"
    },
    {
      "cell_type": "code",
      "execution_count": null,
      "metadata": {
        "colab": {
          "base_uri": "https://localhost:8080/"
        },
        "id": "58342528",
        "outputId": "c8d5d0b9-19b2-4b6d-e28a-44743201ffb7"
      },
      "outputs": [
        {
          "name": "stdout",
          "output_type": "stream",
          "text": [
            "train shape :  (19350, 2)\n",
            "valid shape :  (2150, 2)\n"
          ]
        }
      ],
      "source": [
        "from sklearn.model_selection import train_test_split\n",
        "\n",
        "train,valid = train_test_split(new_df,test_size = 0.1,random_state=0,stratify = new_df.label.values) #stratification means that the train_test_split method returns training and test subsets that have the same proportions of class labels as the input dataset.\n",
        "print(\"train shape : \", train.shape)\n",
        "print(\"valid shape : \", valid.shape)"
      ],
      "id": "58342528"
    },
    {
      "cell_type": "code",
      "execution_count": null,
      "metadata": {
        "colab": {
          "base_uri": "https://localhost:8080/"
        },
        "id": "beeb989d",
        "outputId": "599f4abd-9588-4d3d-f09a-95ad32574e14"
      },
      "outputs": [
        {
          "name": "stdout",
          "output_type": "stream",
          "text": [
            "X_train.shape :  (19350, 49050)\n",
            "X_train.shape :  (2150, 49050)\n",
            "y_train.shape :  (19350,)\n",
            "y_valid.shape :  (2150,)\n"
          ]
        }
      ],
      "source": [
        "from sklearn.feature_extraction.text import CountVectorizer\n",
        "from nltk.corpus import stopwords\n",
        "stop = list(stopwords.words('english'))\n",
        "#vectorizing the sentences ...using countvectorized function\n",
        "vectorizer = CountVectorizer(decode_error = 'replace',stop_words = stop)\n",
        "X_train = vectorizer.fit_transform(train.clean_text.values)\n",
        "X_valid = vectorizer.transform(valid.clean_text.values)\n",
        "\n",
        "y_train = train.label.values\n",
        "y_valid = valid.label.values\n",
        "\n",
        "print(\"X_train.shape : \", X_train.shape)\n",
        "print(\"X_test.shape : \", X_valid.shape)\n",
        "print(\"y_train.shape : \", y_train.shape)\n",
        "print(\"y_valid.shape : \", y_valid.shape)"
      ],
      "id": "beeb989d"
    },
    {
      "cell_type": "markdown",
      "metadata": {
        "id": "5e2d4d52"
      },
      "source": [
        "# Random Forest"
      ],
      "id": "5e2d4d52"
    },
    {
      "cell_type": "code",
      "execution_count": null,
      "metadata": {
        "colab": {
          "base_uri": "https://localhost:8080/"
        },
        "id": "86d11824",
        "outputId": "d7030995-0285-4036-b28c-d8848f941fba"
      },
      "outputs": [
        {
          "name": "stdout",
          "output_type": "stream",
          "text": [
            "Training accuracy Score    :  0.8280103359173127\n",
            "Validation accuracy Score :  0.6818604651162791\n",
            "              precision    recall  f1-score   support\n",
            "\n",
            "           0       0.74      0.62      0.67       646\n",
            "           1       0.50      0.65      0.57       417\n",
            "           2       0.60      0.56      0.58       572\n",
            "           3       0.88      0.92      0.90       515\n",
            "\n",
            "    accuracy                           0.68      2150\n",
            "   macro avg       0.68      0.69      0.68      2150\n",
            "weighted avg       0.69      0.68      0.68      2150\n",
            "\n"
          ]
        }
      ],
      "source": [
        "from sklearn.ensemble import RandomForestClassifier\n",
        "from sklearn.metrics import accuracy_score\n",
        "from sklearn.metrics import classification_report\n",
        "\n",
        "rf_clf = RandomForestClassifier(max_depth=25,\n",
        "                               random_state=22)\n",
        "\n",
        "rf_clf.fit(X_train,y_train)\n",
        "\n",
        "rf_prediction = rf_clf.predict(X_valid)\n",
        "rf_accuracy = accuracy_score(y_valid,rf_prediction)\n",
        "print(\"Training accuracy Score    : \",rf_clf.score(X_train,y_train))\n",
        "print(\"Validation accuracy Score : \",rf_accuracy )\n",
        "print(classification_report(rf_prediction,y_valid))"
      ],
      "id": "86d11824"
    },
    {
      "cell_type": "markdown",
      "metadata": {
        "id": "b1b94342"
      },
      "source": [
        "# XGBoost"
      ],
      "id": "b1b94342"
    },
    {
      "cell_type": "code",
      "execution_count": null,
      "metadata": {
        "colab": {
          "base_uri": "https://localhost:8080/"
        },
        "id": "e4c953df",
        "outputId": "b44e90aa-5512-494d-cf27-097575bf037f"
      },
      "outputs": [
        {
          "name": "stdout",
          "output_type": "stream",
          "text": [
            "Looking in indexes: https://pypi.org/simple, https://us-python.pkg.dev/colab-wheels/public/simple/\n",
            "Requirement already satisfied: xgboost in /usr/local/lib/python3.8/dist-packages (0.90)\n",
            "Requirement already satisfied: numpy in /usr/local/lib/python3.8/dist-packages (from xgboost) (1.21.6)\n",
            "Requirement already satisfied: scipy in /usr/local/lib/python3.8/dist-packages (from xgboost) (1.7.3)\n"
          ]
        }
      ],
      "source": [
        "import sys\n",
        "!{sys.executable} -m pip install xgboost"
      ],
      "id": "e4c953df"
    },
    {
      "cell_type": "code",
      "execution_count": null,
      "metadata": {
        "colab": {
          "base_uri": "https://localhost:8080/"
        },
        "id": "2ffa02b2",
        "outputId": "cdb77779-a666-4aaf-856a-830f46ba767d"
      },
      "outputs": [
        {
          "name": "stdout",
          "output_type": "stream",
          "text": [
            "Training accuracy Score    :  0.8718346253229974\n",
            "Validation accuracy Score :  0.7493023255813953\n",
            "              precision    recall  f1-score   support\n",
            "\n",
            "           0       0.80      0.70      0.75       616\n",
            "           1       0.67      0.68      0.67       531\n",
            "           2       0.63      0.66      0.64       509\n",
            "           3       0.90      0.98      0.94       494\n",
            "\n",
            "    accuracy                           0.75      2150\n",
            "   macro avg       0.75      0.75      0.75      2150\n",
            "weighted avg       0.75      0.75      0.75      2150\n",
            "\n"
          ]
        }
      ],
      "source": [
        "# from xgboost.xgbclassifier import xgbclassifier\n",
        "import xgboost as xgb\n",
        "\n",
        "xgboost_clf = xgb.XGBClassifier(learning_rate =0.1,\n",
        " n_estimators=1000,\n",
        " max_depth=5,\n",
        " min_child_weight=1,\n",
        " gamma=0,\n",
        " subsample=0.8,\n",
        " colsample_bytree=0.8,\n",
        " objective= 'binary:logistic',\n",
        " nthread=4,\n",
        " scale_pos_weight=1,\n",
        " seed=27)\n",
        "\n",
        "xgboost_clf.fit(X_train, y_train)\n",
        "\n",
        "xgb_prediction = xgboost_clf.predict(X_valid)\n",
        "xgb_accuracy = accuracy_score(y_valid,xgb_prediction)\n",
        "print(\"Training accuracy Score    : \",xgboost_clf.score(X_train,y_train))\n",
        "print(\"Validation accuracy Score : \",xgb_accuracy )\n",
        "print(classification_report(xgb_prediction,y_valid))"
      ],
      "id": "2ffa02b2"
    },
    {
      "cell_type": "markdown",
      "metadata": {
        "id": "43b25fd4"
      },
      "source": [
        "# SVM"
      ],
      "id": "43b25fd4"
    },
    {
      "cell_type": "code",
      "execution_count": null,
      "metadata": {
        "colab": {
          "base_uri": "https://localhost:8080/"
        },
        "id": "7179a6b0",
        "outputId": "a68aea3a-b44d-4be2-9284-ba92bc91ca96"
      },
      "outputs": [
        {
          "name": "stdout",
          "output_type": "stream",
          "text": [
            "Training accuracy Score   :  0.9462532299741602\n",
            "Validation accuracy Score :  0.6967441860465117\n",
            "              precision    recall  f1-score   support\n",
            "\n",
            "           0       0.74      0.67      0.70       593\n",
            "           1       0.60      0.63      0.61       517\n",
            "           2       0.64      0.58      0.61       594\n",
            "           3       0.81      0.97      0.88       446\n",
            "\n",
            "    accuracy                           0.70      2150\n",
            "   macro avg       0.70      0.71      0.70      2150\n",
            "weighted avg       0.69      0.70      0.69      2150\n",
            "\n"
          ]
        }
      ],
      "source": [
        "from sklearn.svm import SVC\n",
        "\n",
        "svc = SVC(probability=True)\n",
        "\n",
        "svc.fit(X_train, y_train)\n",
        "\n",
        "svc_prediction = svc.predict(X_valid)\n",
        "svc_accuracy = accuracy_score(y_valid,svc_prediction)\n",
        "print(\"Training accuracy Score   : \",svc.score(X_train,y_train))\n",
        "print(\"Validation accuracy Score : \",svc_accuracy )\n",
        "print(classification_report(svc_prediction,y_valid))"
      ],
      "id": "7179a6b0"
    },
    {
      "cell_type": "markdown",
      "metadata": {
        "id": "870d7d1c"
      },
      "source": [
        "# Logistic Regression"
      ],
      "id": "870d7d1c"
    },
    {
      "cell_type": "code",
      "execution_count": null,
      "metadata": {
        "id": "b7567930"
      },
      "outputs": [],
      "source": [
        "from sklearn.linear_model import LogisticRegression\n",
        "import joblib\n",
        "\n",
        "logreg = LogisticRegression()\n",
        "joblib.dump(logreg,\"logreg\")\n",
        "\n",
        "logreg.fit(X_train, y_train)\n",
        "\n",
        "logreg_prediction = logreg.predict(X_valid)\n",
        "logreg_accuracy = accuracy_score(y_valid,logreg_prediction)\n",
        "print(\"Training accuracy Score    : \",logreg.score(X_train,y_train))\n",
        "print(\"Validation accuracy Score : \",logreg_accuracy )\n",
        "print(classification_report(logreg_prediction,y_valid))"
      ],
      "id": "b7567930"
    },
    {
      "cell_type": "markdown",
      "metadata": {
        "id": "178de661"
      },
      "source": [
        "# Testing on new dataset"
      ],
      "id": "178de661"
    },
    {
      "cell_type": "code",
      "execution_count": null,
      "metadata": {
        "id": "90a9eb07"
      },
      "outputs": [],
      "source": [
        "from sklearn.feature_extraction.text import TfidfVectorizer\n",
        "# df_test=pd.read_csv(r'C:\\Users\\asus\\Downloads\\hate_test.csv')  #reading the data\n",
        "df_test=pd.read_csv(\"hate_test.csv\")\n",
        "df_test['clean_text'] = df_test['text'].apply(lambda x: finalpreprocess(x)) #preprocess the data\n",
        "X_test=df_test['clean_text']"
      ],
      "id": "90a9eb07"
    },
    {
      "cell_type": "code",
      "execution_count": null,
      "metadata": {
        "id": "FreFvq8lzqZx"
      },
      "outputs": [],
      "source": [],
      "id": "FreFvq8lzqZx"
    },
    {
      "cell_type": "code",
      "execution_count": null,
      "metadata": {
        "id": "91c13c90"
      },
      "outputs": [],
      "source": [
        "X_vector = vectorizer.transform(X_test)\n",
        "y_predict = logreg.predict(X_vector)\n",
        "yy_valid=df_test.label.values\n",
        "\n",
        "\n",
        "y_prob = logreg.predict_proba(X_vector)[:,1]\n",
        "df_test['predict_prob']= y_prob\n",
        "df_test['task_2']= y_predict\n",
        "print(df_test.head())\n",
        "# final=df_test[['tweet_id','task_2']].reset_index(drop=True)\n",
        "final=df_test[['predict_prob','task_2']].reset_index(drop=True)\n",
        "final.to_csv('/home/isha/Desktop/final_test.csv')"
      ],
      "id": "91c13c90"
    },
    {
      "cell_type": "code",
      "execution_count": null,
      "metadata": {
        "id": "d3484bb0"
      },
      "outputs": [],
      "source": [],
      "id": "d3484bb0"
    }
  ],
  "metadata": {
    "colab": {
      "collapsed_sections": [
        "870d7d1c",
        "178de661"
      ],
      "provenance": []
    },
    "kernelspec": {
      "display_name": "Python 3 (ipykernel)",
      "language": "python",
      "name": "python3"
    },
    "language_info": {
      "codemirror_mode": {
        "name": "ipython",
        "version": 3
      },
      "file_extension": ".py",
      "mimetype": "text/x-python",
      "name": "python",
      "nbconvert_exporter": "python",
      "pygments_lexer": "ipython3",
      "version": "3.8.11"
    }
  },
  "nbformat": 4,
  "nbformat_minor": 5
}